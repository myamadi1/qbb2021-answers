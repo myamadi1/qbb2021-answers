{
 "cells": [
  {
   "cell_type": "code",
   "execution_count": 2,
   "metadata": {},
   "outputs": [],
   "source": [
    "import matplotlib.pyplot as plt\n",
    "import pandas as pd\n",
    "import numpy as np"
   ]
  },
  {
   "cell_type": "markdown",
   "metadata": {},
   "source": [
    "# Mapping reads"
   ]
  },
  {
   "cell_type": "markdown",
   "metadata": {},
   "source": [
    "bowtie2 -x ~/data/indexes/bowtie2/mm10/mm10 -U CTCF_ER4.fastq > CTCF_ER4_mapped.sam\n",
    "\n",
    "bowtie2 -x ~/data/indexes/bowtie2/mm10/mm10 -U CTCF_G1E.fastq > CTCF_G1E_mapped.sam\n",
    "\n",
    "bowtie2 -x ~/data/indexes/bowtie2/mm10/mm10 -U input_ER4.fastq > input_ER4_mapped.sam\n",
    "\n",
    "bowtie2 -x ~/data/indexes/bowtie2/mm10/mm10 -U input_G1E.fastq > input_G1E_mapped.sam"
   ]
  },
  {
   "cell_type": "markdown",
   "metadata": {},
   "source": [
    "# Calling Peaks"
   ]
  },
  {
   "cell_type": "markdown",
   "metadata": {},
   "source": [
    "macs2 callpeak -t CTCF_ER4_mapped.sam -c input_ER4_mapped.sam --name=ER4 --gsize=138000000 --bdg\n",
    "\n",
    "macs2 callpeak -t CTCF_G1E_mapped.sam -c input_G1E_mapped.sam --name=G1E --gsize=138000000 --bdg\n"
   ]
  },
  {
   "cell_type": "markdown",
   "metadata": {},
   "source": [
    "# Differential Binding"
   ]
  },
  {
   "cell_type": "markdown",
   "metadata": {},
   "source": [
    "bedtools subtract -A -a ER4_peaks.narrowPeak -b G1E_peaks.narrowPeak > diff1.bed\n",
    "\n",
    "bedtools subtract -A -a G1E_peaks.narrowPeak -b ER4_peaks.narrowPeak > diff2.bed"
   ]
  },
  {
   "cell_type": "markdown",
   "metadata": {},
   "source": [
    "# Feature Overlapping"
   ]
  },
  {
   "cell_type": "markdown",
   "metadata": {},
   "source": [
    "wget https://raw.githubusercontent.com/bxlab/qbb2020/master/week5/Mus_musculus.GRCm38.94_features.bed"
   ]
  },
  {
   "cell_type": "markdown",
   "metadata": {},
   "source": [
    "bedtools intersect -a Mus_musculus.GRCm38.94_features.bed -b ER4_peaks.narrowPeak > overlap_ER4.bed\n",
    "\n",
    "bedtools intersect -a Mus_musculus.GRCm38.94_features.bed -b G1E_peaks.narrowPeak > overlap_G1E.bed\n",
    "\n"
   ]
  },
  {
   "cell_type": "markdown",
   "metadata": {},
   "source": [
    "# Count how many of the CTCF binding sites in G1E and ER4 overlap with each feature "
   ]
  },
  {
   "cell_type": "markdown",
   "metadata": {},
   "source": [
    "cut -f 4 overlap_G1E.bed|sort|uniq -c > G1Ecount.txt\n",
    "\n",
    "cut -f 4 overlap_ER4.bed|sort|uniq -c > ER4count.txt"
   ]
  },
  {
   "cell_type": "code",
   "execution_count": 5,
   "metadata": {},
   "outputs": [
    {
     "data": {
      "text/html": [
       "<div>\n",
       "<style scoped>\n",
       "    .dataframe tbody tr th:only-of-type {\n",
       "        vertical-align: middle;\n",
       "    }\n",
       "\n",
       "    .dataframe tbody tr th {\n",
       "        vertical-align: top;\n",
       "    }\n",
       "\n",
       "    .dataframe thead th {\n",
       "        text-align: right;\n",
       "    }\n",
       "</style>\n",
       "<table border=\"1\" class=\"dataframe\">\n",
       "  <thead>\n",
       "    <tr style=\"text-align: right;\">\n",
       "      <th></th>\n",
       "      <th>G1Ecount</th>\n",
       "      <th>feature</th>\n",
       "    </tr>\n",
       "  </thead>\n",
       "  <tbody>\n",
       "    <tr>\n",
       "      <th>0</th>\n",
       "      <td>65</td>\n",
       "      <td>exon</td>\n",
       "    </tr>\n",
       "    <tr>\n",
       "      <th>1</th>\n",
       "      <td>226</td>\n",
       "      <td>intron</td>\n",
       "    </tr>\n",
       "    <tr>\n",
       "      <th>2</th>\n",
       "      <td>41</td>\n",
       "      <td>promoter</td>\n",
       "    </tr>\n",
       "  </tbody>\n",
       "</table>\n",
       "</div>"
      ],
      "text/plain": [
       "   G1Ecount   feature\n",
       "0        65      exon\n",
       "1       226    intron\n",
       "2        41  promoter"
      ]
     },
     "execution_count": 5,
     "metadata": {},
     "output_type": "execute_result"
    }
   ],
   "source": [
    "G1Ecounts = pd.read_csv('G1Ecount.txt', header = None, sep = '\\s+')\n",
    "G1Ecounts.columns = ['G1Ecount','feature']\n",
    "G1Ecounts"
   ]
  },
  {
   "cell_type": "code",
   "execution_count": 6,
   "metadata": {},
   "outputs": [
    {
     "data": {
      "text/html": [
       "<div>\n",
       "<style scoped>\n",
       "    .dataframe tbody tr th:only-of-type {\n",
       "        vertical-align: middle;\n",
       "    }\n",
       "\n",
       "    .dataframe tbody tr th {\n",
       "        vertical-align: top;\n",
       "    }\n",
       "\n",
       "    .dataframe thead th {\n",
       "        text-align: right;\n",
       "    }\n",
       "</style>\n",
       "<table border=\"1\" class=\"dataframe\">\n",
       "  <thead>\n",
       "    <tr style=\"text-align: right;\">\n",
       "      <th></th>\n",
       "      <th>ER4count</th>\n",
       "      <th>feature</th>\n",
       "    </tr>\n",
       "  </thead>\n",
       "  <tbody>\n",
       "    <tr>\n",
       "      <th>0</th>\n",
       "      <td>82</td>\n",
       "      <td>exon</td>\n",
       "    </tr>\n",
       "    <tr>\n",
       "      <th>1</th>\n",
       "      <td>276</td>\n",
       "      <td>intron</td>\n",
       "    </tr>\n",
       "    <tr>\n",
       "      <th>2</th>\n",
       "      <td>53</td>\n",
       "      <td>promoter</td>\n",
       "    </tr>\n",
       "  </tbody>\n",
       "</table>\n",
       "</div>"
      ],
      "text/plain": [
       "   ER4count   feature\n",
       "0        82      exon\n",
       "1       276    intron\n",
       "2        53  promoter"
      ]
     },
     "execution_count": 6,
     "metadata": {},
     "output_type": "execute_result"
    }
   ],
   "source": [
    "ER4counts = pd.read_csv('ER4count.txt', header = None, sep = '\\s+')\n",
    "ER4counts.columns = ['ER4count','feature']\n",
    "ER4counts"
   ]
  },
  {
   "cell_type": "code",
   "execution_count": 7,
   "metadata": {},
   "outputs": [
    {
     "data": {
      "text/html": [
       "<div>\n",
       "<style scoped>\n",
       "    .dataframe tbody tr th:only-of-type {\n",
       "        vertical-align: middle;\n",
       "    }\n",
       "\n",
       "    .dataframe tbody tr th {\n",
       "        vertical-align: top;\n",
       "    }\n",
       "\n",
       "    .dataframe thead th {\n",
       "        text-align: right;\n",
       "    }\n",
       "</style>\n",
       "<table border=\"1\" class=\"dataframe\">\n",
       "  <thead>\n",
       "    <tr style=\"text-align: right;\">\n",
       "      <th></th>\n",
       "      <th>G1Ecount</th>\n",
       "      <th>feature</th>\n",
       "      <th>ER4count</th>\n",
       "    </tr>\n",
       "  </thead>\n",
       "  <tbody>\n",
       "    <tr>\n",
       "      <th>0</th>\n",
       "      <td>65</td>\n",
       "      <td>exon</td>\n",
       "      <td>82</td>\n",
       "    </tr>\n",
       "    <tr>\n",
       "      <th>1</th>\n",
       "      <td>226</td>\n",
       "      <td>intron</td>\n",
       "      <td>276</td>\n",
       "    </tr>\n",
       "    <tr>\n",
       "      <th>2</th>\n",
       "      <td>41</td>\n",
       "      <td>promoter</td>\n",
       "      <td>53</td>\n",
       "    </tr>\n",
       "  </tbody>\n",
       "</table>\n",
       "</div>"
      ],
      "text/plain": [
       "   G1Ecount   feature  ER4count\n",
       "0        65      exon        82\n",
       "1       226    intron       276\n",
       "2        41  promoter        53"
      ]
     },
     "execution_count": 7,
     "metadata": {},
     "output_type": "execute_result"
    }
   ],
   "source": [
    "merge_df = G1Ecounts.merge(ER4counts, on = ['feature'])\n",
    "merge_df"
   ]
  },
  {
   "cell_type": "markdown",
   "metadata": {},
   "source": [
    "# Sites lost and gained during differentiation for each cell type"
   ]
  },
  {
   "cell_type": "markdown",
   "metadata": {},
   "source": [
    "bedtools intersect -v -a G1E_peaks.narrowPeak -b ER4_peaks.narrowPeak > loss.bed\n",
    "\n",
    "bedtools intersect -v -a ER4_peaks.narrowPeak -b G1E_peaks.narrowPeak > gain.bed"
   ]
  },
  {
   "cell_type": "markdown",
   "metadata": {},
   "source": [
    " wc -l loss.bed > loss_gained.txt\n",
    " \n",
    " wc -l gain.bed >> loss_gained.txt"
   ]
  },
  {
   "cell_type": "code",
   "execution_count": 8,
   "metadata": {},
   "outputs": [
    {
     "data": {
      "text/html": [
       "<div>\n",
       "<style scoped>\n",
       "    .dataframe tbody tr th:only-of-type {\n",
       "        vertical-align: middle;\n",
       "    }\n",
       "\n",
       "    .dataframe tbody tr th {\n",
       "        vertical-align: top;\n",
       "    }\n",
       "\n",
       "    .dataframe thead th {\n",
       "        text-align: right;\n",
       "    }\n",
       "</style>\n",
       "<table border=\"1\" class=\"dataframe\">\n",
       "  <thead>\n",
       "    <tr style=\"text-align: right;\">\n",
       "      <th></th>\n",
       "      <th>Count</th>\n",
       "      <th>Loss or gain</th>\n",
       "    </tr>\n",
       "  </thead>\n",
       "  <tbody>\n",
       "    <tr>\n",
       "      <th>0</th>\n",
       "      <td>25</td>\n",
       "      <td>loss.bed</td>\n",
       "    </tr>\n",
       "    <tr>\n",
       "      <th>1</th>\n",
       "      <td>124</td>\n",
       "      <td>gain.bed</td>\n",
       "    </tr>\n",
       "  </tbody>\n",
       "</table>\n",
       "</div>"
      ],
      "text/plain": [
       "   Count Loss or gain\n",
       "0     25     loss.bed\n",
       "1    124     gain.bed"
      ]
     },
     "execution_count": 8,
     "metadata": {},
     "output_type": "execute_result"
    }
   ],
   "source": [
    "lossgain = pd.read_csv('loss_gained.txt', header = None, sep = '\\s+')\n",
    "lossgain.columns = ['Count','Loss or gain']\n",
    "lossgain"
   ]
  },
  {
   "cell_type": "markdown",
   "metadata": {},
   "source": [
    "# Plot"
   ]
  },
  {
   "cell_type": "code",
   "execution_count": 19,
   "metadata": {},
   "outputs": [
    {
     "data": {
      "image/png": "[encoded data removed]",
      "text/plain": [
       "<Figure size 720x360 with 2 Axes>"
      ]
     },
     "metadata": {
      "needs_background": "light"
     },
     "output_type": "display_data"
    }
   ],
   "source": [
    "label = [\"exon\",\"intron\",\"promoter\"]\n",
    "x = np.arange(len(label))  # the label locations\n",
    "width = 0.50\n",
    "\n",
    "fig, ax = plt.subplots(ncols=2, figsize=(10,5))\n",
    "\n",
    "rects1 = ax[0].bar(x - width/2, merge_df['G1Ecount'], width, label='G1E')\n",
    "rects2 = ax[0].bar(x + width/2, merge_df['ER4count'], width, label='ER4')\n",
    "ax[0].set_title('Features Pre and Post Differentiation')\n",
    "ax[0].set_xlabel('Features')\n",
    "ax[0].set_ylabel('Count')\n",
    "ax[0].set_xticks(x)\n",
    "ax[0].set_xticklabels(label)\n",
    "ax[0].legend(loc='upper right', prop={'size': 7})\n",
    "\n",
    "ax[1].bar(lossgain['Loss or gain'],lossgain['Count'], color = 'orchid')\n",
    "ax[1].set_title('Loss and Gain of CTCF Binding: G1E to ER4')\n",
    "ax[1].set_ylabel('Count')\n",
    "\n",
    "fig.tight_layout()\n",
    "plt.show()"
   ]
  },
  {
   "cell_type": "markdown",
   "metadata": {},
   "source": [
    "# Motif Discovery"
   ]
  },
  {
   "cell_type": "markdown",
   "metadata": {},
   "source": [
    "# Select 100 Strongest Peaks from ER4 state "
   ]
  },
  {
   "cell_type": "markdown",
   "metadata": {},
   "source": [
    "sort -k8 -nr ER4_peaks.narrowPeak > ER4_sorted.narrowPeak\n",
    "\n",
    "head -n 100 ER4_sorted.narrowPeak > ER4_top100.narrowPeak"
   ]
  },
  {
   "cell_type": "markdown",
   "metadata": {},
   "source": [
    "# Map to reference"
   ]
  },
  {
   "cell_type": "markdown",
   "metadata": {},
   "source": [
    "bedtools getfasta -fi /Users/cmdb/data/genomes/mm10.fa -bed ER4_top100.narrowPeak > ER4_top100.fa"
   ]
  },
  {
   "cell_type": "markdown",
   "metadata": {},
   "source": [
    "# Used this output in meme chip"
   ]
  },
  {
   "cell_type": "markdown",
   "metadata": {},
   "source": [
    "meme-chip -maxw 20 -db JASPAR2018_CORE_non-redundant_pfms_meme/MA* ER4_top100.fa"
   ]
  },
  {
   "cell_type": "markdown",
   "metadata": {},
   "source": [
    "# Uploaded resulting combined.meme file to tomtom"
   ]
  },
  {
   "cell_type": "markdown",
   "metadata": {},
   "source": [
    "wget https://bx.bio.jhu.edu/data/msauria/cmdb-lab/JASPAR2018_CORE_non-redundant_pfms_meme.zip"
   ]
  },
  {
   "cell_type": "markdown",
   "metadata": {},
   "source": [
    "tomtom logo plot for motif MA0139.1 (CTCF) pushed to github"
   ]
  },
  {
   "cell_type": "code",
   "execution_count": null,
   "metadata": {},
   "outputs": [],
   "source": []
  },
  {
   "cell_type": "code",
   "execution_count": null,
   "metadata": {},
   "outputs": [],
   "source": []
  },
  {
   "cell_type": "code",
   "execution_count": null,
   "metadata": {},
   "outputs": [],
   "source": []
  },
  {
   "cell_type": "code",
   "execution_count": null,
   "metadata": {},
   "outputs": [],
   "source": []
  },
  {
   "cell_type": "code",
   "execution_count": null,
   "metadata": {},
   "outputs": [],
   "source": []
  },
  {
   "cell_type": "code",
   "execution_count": null,
   "metadata": {},
   "outputs": [],
   "source": []
  }
 ],
 "metadata": {
  "kernelspec": {
   "display_name": "Python 3",
   "language": "python",
   "name": "python3"
  },
  "language_info": {
   "codemirror_mode": {
    "name": "ipython",
    "version": 3
   },
   "file_extension": ".py",
   "mimetype": "text/x-python",
   "name": "python",
   "nbconvert_exporter": "python",
   "pygments_lexer": "ipython3",
   "version": "3.7.9"
  }
 },
 "nbformat": 4,
 "nbformat_minor": 4
}
