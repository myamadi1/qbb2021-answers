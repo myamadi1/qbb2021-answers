{
 "cells": [
  {
   "cell_type": "markdown",
   "metadata": {},
   "source": [
    "# Getting the data and FastQC"
   ]
  },
  {
   "cell_type": "markdown",
   "metadata": {},
   "source": [
    "mkdir index\n",
    "\n",
    "cp /Users/cmdb/data/rawdata/mm10_refseq-genes-chr6-50M-60M.bed /Users/cmdb/qbb2021-answers/week4\n",
    "\n",
    "cp /Users/cmdb/data/rawdata/methylation_fastq.tar /Users/cmdb/qbb2021-answers/week4\n",
    "\n",
    "cp /Users/cmdb/data/rawdata/chr6.fa.gz /Users/cmdb/qbb2021-answers/week4/index\n",
    "\n",
    "tar xzf methylation_fastq.tar.gz\n",
    "\n",
    "-Fastqc on one of the fastq files:\n",
    "\n",
    "fastqc SRR3083926_1.chr6.fastq > fastq.out"
   ]
  },
  {
   "cell_type": "markdown",
   "metadata": {},
   "source": [
    "## Bisulfite mapping with Bismark"
   ]
  },
  {
   "cell_type": "markdown",
   "metadata": {},
   "source": [
    "index reference genome:\n",
    "\n",
    "bismark_genome_preparation ~/qbb2021-answers/week4/index --parallel 7"
   ]
  },
  {
   "cell_type": "markdown",
   "metadata": {},
   "source": [
    "map to genome:\n",
    "\n",
    "bismark index -1 SRR3083929_1.chr6.fastq -2 SRR3083929_2.chr6.fastq  --B E5\n",
    "\n",
    "bismark index -1 SRR3083926_1.chr6.fastq -2 SRR3083926_2.chr6.fastq --parallel 7 --B E4\n"
   ]
  },
  {
   "cell_type": "markdown",
   "metadata": {},
   "source": [
    "remove duplicate reads:\n",
    "\n",
    "deduplicate_bismark E4_pe.bam\n",
    "\n",
    "deduplicate_bismark E5_pe.bam"
   ]
  },
  {
   "cell_type": "markdown",
   "metadata": {},
   "source": [
    "extract methylation data:\n",
    "\n",
    "bismark_methylation_extractor --bedgraph --comprehensive E4_pe.deduplicated.bam\n",
    "\n",
    "bismark_methylation_extractor --bedgraph --comprehensive E5_pe.deduplicated.bam\n"
   ]
  },
  {
   "cell_type": "markdown",
   "metadata": {},
   "source": [
    "sort and index reads:\n",
    "\n",
    "samtools sort -O bam -o E4index.bam E4_pe.deduplicated.bam\n",
    "\n",
    "samtools sort -O bam -o E5index.bam E5_pe.deduplicated.bam\n",
    "\n",
    "samtools index E4index.bam\n",
    "\n",
    "samtools index E5index.bam"
   ]
  },
  {
   "cell_type": "markdown",
   "metadata": {},
   "source": [
    "open in IGV:\n",
    "\n",
    "igv E4index.bam E4_pe.deduplicated.bedGraph\n",
    "\n",
    "igv E5index.bam E5_pe.deduplicated.bedGraph.gz"
   ]
  },
  {
   "cell_type": "markdown",
   "metadata": {},
   "source": [
    "pushed screenshots to GitHub of chr6:51,750,000-52,750,000"
   ]
  },
  {
   "cell_type": "markdown",
   "metadata": {},
   "source": [
    "## Analysis "
   ]
  },
  {
   "cell_type": "markdown",
   "metadata": {},
   "source": [
    "Extract promoters from chr6:50,000,000-60,000,000:\n",
    "\n",
    "awk 'BEGIN{OFS=\"\\t\"}{if ($4 == \"+\") print $3,$5 - 2000,$5,$13,$12,$4; else print $3,$6,$6 + 2000,$13,$12,$4;}' mm10_refseq_genes_chr6_50M_60M.bed | grep -v Rik | uniq -f 3 | sort -k2,2n > promoters.bed\n"
   ]
  },
  {
   "cell_type": "markdown",
   "metadata": {},
   "source": [
    "map methylation signal to promoters:\n",
    "\n",
    "bedtools map  -a promoters.bed -b E4_pe.deduplicated.bedGraph -c 4 > E4mapped.txt\n",
    "\n",
    "bedtools map  -a promoters.bed -b E5_pe.deduplicated.bedGraph.gz -c 4 > E5mapped.txt"
   ]
  },
  {
   "cell_type": "code",
   "execution_count": 11,
   "metadata": {},
   "outputs": [],
   "source": [
    "import pandas as pd\n",
    "import matplotlib.pyplot as plt\n",
    "#from spicy import stats\n",
    "import numpy as np"
   ]
  },
  {
   "cell_type": "code",
   "execution_count": 21,
   "metadata": {},
   "outputs": [
    {
     "data": {
      "text/html": [
       "<div>\n",
       "<style scoped>\n",
       "    .dataframe tbody tr th:only-of-type {\n",
       "        vertical-align: middle;\n",
       "    }\n",
       "\n",
       "    .dataframe tbody tr th {\n",
       "        vertical-align: top;\n",
       "    }\n",
       "\n",
       "    .dataframe thead th {\n",
       "        text-align: right;\n",
       "    }\n",
       "</style>\n",
       "<table border=\"1\" class=\"dataframe\">\n",
       "  <thead>\n",
       "    <tr style=\"text-align: right;\">\n",
       "      <th></th>\n",
       "      <th>CHR</th>\n",
       "      <th>start</th>\n",
       "      <th>end</th>\n",
       "      <th>gene</th>\n",
       "      <th>four</th>\n",
       "      <th>five</th>\n",
       "      <th>E4sum</th>\n",
       "    </tr>\n",
       "  </thead>\n",
       "  <tbody>\n",
       "    <tr>\n",
       "      <th>0</th>\n",
       "      <td>chr6</td>\n",
       "      <td>50108240</td>\n",
       "      <td>50110240</td>\n",
       "      <td>Mpp6</td>\n",
       "      <td>0</td>\n",
       "      <td>+</td>\n",
       "      <td>0</td>\n",
       "    </tr>\n",
       "    <tr>\n",
       "      <th>1</th>\n",
       "      <td>chr6</td>\n",
       "      <td>50261769</td>\n",
       "      <td>50263769</td>\n",
       "      <td>Dfna5</td>\n",
       "      <td>0</td>\n",
       "      <td>-</td>\n",
       "      <td>0</td>\n",
       "    </tr>\n",
       "    <tr>\n",
       "      <th>2</th>\n",
       "      <td>chr6</td>\n",
       "      <td>50382837</td>\n",
       "      <td>50384837</td>\n",
       "      <td>Osbpl3</td>\n",
       "      <td>0</td>\n",
       "      <td>-</td>\n",
       "      <td>0</td>\n",
       "    </tr>\n",
       "    <tr>\n",
       "      <th>3</th>\n",
       "      <td>chr6</td>\n",
       "      <td>50566474</td>\n",
       "      <td>50568474</td>\n",
       "      <td>Cycs</td>\n",
       "      <td>0</td>\n",
       "      <td>-</td>\n",
       "      <td>133.3333333</td>\n",
       "    </tr>\n",
       "    <tr>\n",
       "      <th>4</th>\n",
       "      <td>chr6</td>\n",
       "      <td>50570397</td>\n",
       "      <td>50572397</td>\n",
       "      <td>Mir6371</td>\n",
       "      <td>0</td>\n",
       "      <td>+</td>\n",
       "      <td>700</td>\n",
       "    </tr>\n",
       "    <tr>\n",
       "      <th>...</th>\n",
       "      <td>...</td>\n",
       "      <td>...</td>\n",
       "      <td>...</td>\n",
       "      <td>...</td>\n",
       "      <td>...</td>\n",
       "      <td>...</td>\n",
       "      <td>...</td>\n",
       "    </tr>\n",
       "    <tr>\n",
       "      <th>102</th>\n",
       "      <td>chr6</td>\n",
       "      <td>58831699</td>\n",
       "      <td>58833699</td>\n",
       "      <td>Herc3</td>\n",
       "      <td>0</td>\n",
       "      <td>+</td>\n",
       "      <td>0</td>\n",
       "    </tr>\n",
       "    <tr>\n",
       "      <th>103</th>\n",
       "      <td>chr6</td>\n",
       "      <td>58907126</td>\n",
       "      <td>58909126</td>\n",
       "      <td>Nap1l5</td>\n",
       "      <td>0</td>\n",
       "      <td>-</td>\n",
       "      <td>866.6666667</td>\n",
       "    </tr>\n",
       "    <tr>\n",
       "      <th>104</th>\n",
       "      <td>chr6</td>\n",
       "      <td>59024502</td>\n",
       "      <td>59026502</td>\n",
       "      <td>Fam13a</td>\n",
       "      <td>0</td>\n",
       "      <td>-</td>\n",
       "      <td>0</td>\n",
       "    </tr>\n",
       "    <tr>\n",
       "      <th>105</th>\n",
       "      <td>chr6</td>\n",
       "      <td>59206869</td>\n",
       "      <td>59208869</td>\n",
       "      <td>Tigd2</td>\n",
       "      <td>0</td>\n",
       "      <td>+</td>\n",
       "      <td>100</td>\n",
       "    </tr>\n",
       "    <tr>\n",
       "      <th>106</th>\n",
       "      <td>chr6</td>\n",
       "      <td>59426290</td>\n",
       "      <td>59428290</td>\n",
       "      <td>Gprin3</td>\n",
       "      <td>0</td>\n",
       "      <td>-</td>\n",
       "      <td>0</td>\n",
       "    </tr>\n",
       "  </tbody>\n",
       "</table>\n",
       "<p>107 rows × 7 columns</p>\n",
       "</div>"
      ],
      "text/plain": [
       "      CHR     start       end     gene  four five        E4sum\n",
       "0    chr6  50108240  50110240     Mpp6     0    +            0\n",
       "1    chr6  50261769  50263769    Dfna5     0    -            0\n",
       "2    chr6  50382837  50384837   Osbpl3     0    -            0\n",
       "3    chr6  50566474  50568474     Cycs     0    -  133.3333333\n",
       "4    chr6  50570397  50572397  Mir6371     0    +          700\n",
       "..    ...       ...       ...      ...   ...  ...          ...\n",
       "102  chr6  58831699  58833699    Herc3     0    +            0\n",
       "103  chr6  58907126  58909126   Nap1l5     0    -  866.6666667\n",
       "104  chr6  59024502  59026502   Fam13a     0    -            0\n",
       "105  chr6  59206869  59208869    Tigd2     0    +          100\n",
       "106  chr6  59426290  59428290   Gprin3     0    -            0\n",
       "\n",
       "[107 rows x 7 columns]"
      ]
     },
     "execution_count": 21,
     "metadata": {},
     "output_type": "execute_result"
    }
   ],
   "source": [
    "#make dataframe of mapped methylation scores to promoter genes\n",
    "df_E4 = pd.read_csv(\"E4mapped.txt\", sep = '\\t', header = None)\n",
    "df_E4.columns = ['CHR','start','end','gene','four','five','E4sum']\n",
    "df_E4"
   ]
  },
  {
   "cell_type": "code",
   "execution_count": 22,
   "metadata": {},
   "outputs": [
    {
     "data": {
      "text/html": [
       "<div>\n",
       "<style scoped>\n",
       "    .dataframe tbody tr th:only-of-type {\n",
       "        vertical-align: middle;\n",
       "    }\n",
       "\n",
       "    .dataframe tbody tr th {\n",
       "        vertical-align: top;\n",
       "    }\n",
       "\n",
       "    .dataframe thead th {\n",
       "        text-align: right;\n",
       "    }\n",
       "</style>\n",
       "<table border=\"1\" class=\"dataframe\">\n",
       "  <thead>\n",
       "    <tr style=\"text-align: right;\">\n",
       "      <th></th>\n",
       "      <th>CHR</th>\n",
       "      <th>start</th>\n",
       "      <th>end</th>\n",
       "      <th>gene</th>\n",
       "      <th>four</th>\n",
       "      <th>five</th>\n",
       "      <th>E5sum</th>\n",
       "    </tr>\n",
       "  </thead>\n",
       "  <tbody>\n",
       "    <tr>\n",
       "      <th>0</th>\n",
       "      <td>chr6</td>\n",
       "      <td>50108240</td>\n",
       "      <td>50110240</td>\n",
       "      <td>Mpp6</td>\n",
       "      <td>0</td>\n",
       "      <td>+</td>\n",
       "      <td>100.000000</td>\n",
       "    </tr>\n",
       "    <tr>\n",
       "      <th>1</th>\n",
       "      <td>chr6</td>\n",
       "      <td>50261769</td>\n",
       "      <td>50263769</td>\n",
       "      <td>Dfna5</td>\n",
       "      <td>0</td>\n",
       "      <td>-</td>\n",
       "      <td>950.000000</td>\n",
       "    </tr>\n",
       "    <tr>\n",
       "      <th>2</th>\n",
       "      <td>chr6</td>\n",
       "      <td>50382837</td>\n",
       "      <td>50384837</td>\n",
       "      <td>Osbpl3</td>\n",
       "      <td>0</td>\n",
       "      <td>-</td>\n",
       "      <td>1650.000000</td>\n",
       "    </tr>\n",
       "    <tr>\n",
       "      <th>3</th>\n",
       "      <td>chr6</td>\n",
       "      <td>50566474</td>\n",
       "      <td>50568474</td>\n",
       "      <td>Cycs</td>\n",
       "      <td>0</td>\n",
       "      <td>-</td>\n",
       "      <td>650.000000</td>\n",
       "    </tr>\n",
       "    <tr>\n",
       "      <th>4</th>\n",
       "      <td>chr6</td>\n",
       "      <td>50570397</td>\n",
       "      <td>50572397</td>\n",
       "      <td>Mir6371</td>\n",
       "      <td>0</td>\n",
       "      <td>+</td>\n",
       "      <td>1916.666667</td>\n",
       "    </tr>\n",
       "    <tr>\n",
       "      <th>...</th>\n",
       "      <td>...</td>\n",
       "      <td>...</td>\n",
       "      <td>...</td>\n",
       "      <td>...</td>\n",
       "      <td>...</td>\n",
       "      <td>...</td>\n",
       "      <td>...</td>\n",
       "    </tr>\n",
       "    <tr>\n",
       "      <th>102</th>\n",
       "      <td>chr6</td>\n",
       "      <td>58831699</td>\n",
       "      <td>58833699</td>\n",
       "      <td>Herc3</td>\n",
       "      <td>0</td>\n",
       "      <td>+</td>\n",
       "      <td>850.000000</td>\n",
       "    </tr>\n",
       "    <tr>\n",
       "      <th>103</th>\n",
       "      <td>chr6</td>\n",
       "      <td>58907126</td>\n",
       "      <td>58909126</td>\n",
       "      <td>Nap1l5</td>\n",
       "      <td>0</td>\n",
       "      <td>-</td>\n",
       "      <td>800.000000</td>\n",
       "    </tr>\n",
       "    <tr>\n",
       "      <th>104</th>\n",
       "      <td>chr6</td>\n",
       "      <td>59024502</td>\n",
       "      <td>59026502</td>\n",
       "      <td>Fam13a</td>\n",
       "      <td>0</td>\n",
       "      <td>-</td>\n",
       "      <td>750.000000</td>\n",
       "    </tr>\n",
       "    <tr>\n",
       "      <th>105</th>\n",
       "      <td>chr6</td>\n",
       "      <td>59206869</td>\n",
       "      <td>59208869</td>\n",
       "      <td>Tigd2</td>\n",
       "      <td>0</td>\n",
       "      <td>+</td>\n",
       "      <td>950.000000</td>\n",
       "    </tr>\n",
       "    <tr>\n",
       "      <th>106</th>\n",
       "      <td>chr6</td>\n",
       "      <td>59426290</td>\n",
       "      <td>59428290</td>\n",
       "      <td>Gprin3</td>\n",
       "      <td>0</td>\n",
       "      <td>-</td>\n",
       "      <td>900.000000</td>\n",
       "    </tr>\n",
       "  </tbody>\n",
       "</table>\n",
       "<p>107 rows × 7 columns</p>\n",
       "</div>"
      ],
      "text/plain": [
       "      CHR     start       end     gene  four five        E5sum\n",
       "0    chr6  50108240  50110240     Mpp6     0    +   100.000000\n",
       "1    chr6  50261769  50263769    Dfna5     0    -   950.000000\n",
       "2    chr6  50382837  50384837   Osbpl3     0    -  1650.000000\n",
       "3    chr6  50566474  50568474     Cycs     0    -   650.000000\n",
       "4    chr6  50570397  50572397  Mir6371     0    +  1916.666667\n",
       "..    ...       ...       ...      ...   ...  ...          ...\n",
       "102  chr6  58831699  58833699    Herc3     0    +   850.000000\n",
       "103  chr6  58907126  58909126   Nap1l5     0    -   800.000000\n",
       "104  chr6  59024502  59026502   Fam13a     0    -   750.000000\n",
       "105  chr6  59206869  59208869    Tigd2     0    +   950.000000\n",
       "106  chr6  59426290  59428290   Gprin3     0    -   900.000000\n",
       "\n",
       "[107 rows x 7 columns]"
      ]
     },
     "execution_count": 22,
     "metadata": {},
     "output_type": "execute_result"
    }
   ],
   "source": [
    "df_E5 = pd.read_csv(\"E5mapped.txt\", sep = '\\t', header = None)\n",
    "df_E5.columns = ['CHR','start','end','gene','four','five','E5sum']\n",
    "df_E5"
   ]
  },
  {
   "cell_type": "code",
   "execution_count": 24,
   "metadata": {},
   "outputs": [
    {
     "data": {
      "text/html": [
       "<div>\n",
       "<style scoped>\n",
       "    .dataframe tbody tr th:only-of-type {\n",
       "        vertical-align: middle;\n",
       "    }\n",
       "\n",
       "    .dataframe tbody tr th {\n",
       "        vertical-align: top;\n",
       "    }\n",
       "\n",
       "    .dataframe thead th {\n",
       "        text-align: right;\n",
       "    }\n",
       "</style>\n",
       "<table border=\"1\" class=\"dataframe\">\n",
       "  <thead>\n",
       "    <tr style=\"text-align: right;\">\n",
       "      <th></th>\n",
       "      <th>gene</th>\n",
       "      <th>E4sum</th>\n",
       "    </tr>\n",
       "  </thead>\n",
       "  <tbody>\n",
       "    <tr>\n",
       "      <th>0</th>\n",
       "      <td>Mpp6</td>\n",
       "      <td>0</td>\n",
       "    </tr>\n",
       "    <tr>\n",
       "      <th>1</th>\n",
       "      <td>Dfna5</td>\n",
       "      <td>0</td>\n",
       "    </tr>\n",
       "    <tr>\n",
       "      <th>2</th>\n",
       "      <td>Osbpl3</td>\n",
       "      <td>0</td>\n",
       "    </tr>\n",
       "    <tr>\n",
       "      <th>3</th>\n",
       "      <td>Cycs</td>\n",
       "      <td>133.3333333</td>\n",
       "    </tr>\n",
       "    <tr>\n",
       "      <th>4</th>\n",
       "      <td>Mir6371</td>\n",
       "      <td>700</td>\n",
       "    </tr>\n",
       "    <tr>\n",
       "      <th>...</th>\n",
       "      <td>...</td>\n",
       "      <td>...</td>\n",
       "    </tr>\n",
       "    <tr>\n",
       "      <th>102</th>\n",
       "      <td>Herc3</td>\n",
       "      <td>0</td>\n",
       "    </tr>\n",
       "    <tr>\n",
       "      <th>103</th>\n",
       "      <td>Nap1l5</td>\n",
       "      <td>866.6666667</td>\n",
       "    </tr>\n",
       "    <tr>\n",
       "      <th>104</th>\n",
       "      <td>Fam13a</td>\n",
       "      <td>0</td>\n",
       "    </tr>\n",
       "    <tr>\n",
       "      <th>105</th>\n",
       "      <td>Tigd2</td>\n",
       "      <td>100</td>\n",
       "    </tr>\n",
       "    <tr>\n",
       "      <th>106</th>\n",
       "      <td>Gprin3</td>\n",
       "      <td>0</td>\n",
       "    </tr>\n",
       "  </tbody>\n",
       "</table>\n",
       "<p>107 rows × 2 columns</p>\n",
       "</div>"
      ],
      "text/plain": [
       "        gene        E4sum\n",
       "0       Mpp6            0\n",
       "1      Dfna5            0\n",
       "2     Osbpl3            0\n",
       "3       Cycs  133.3333333\n",
       "4    Mir6371          700\n",
       "..       ...          ...\n",
       "102    Herc3            0\n",
       "103   Nap1l5  866.6666667\n",
       "104   Fam13a            0\n",
       "105    Tigd2          100\n",
       "106   Gprin3            0\n",
       "\n",
       "[107 rows x 2 columns]"
      ]
     },
     "execution_count": 24,
     "metadata": {},
     "output_type": "execute_result"
    }
   ],
   "source": [
    "#subset each of the data frames for gene and sum\n",
    "E4genesum = df_E4.iloc[:,[3,6]]\n",
    "E4genesum"
   ]
  },
  {
   "cell_type": "code",
   "execution_count": 26,
   "metadata": {},
   "outputs": [
    {
     "data": {
      "text/html": [
       "<div>\n",
       "<style scoped>\n",
       "    .dataframe tbody tr th:only-of-type {\n",
       "        vertical-align: middle;\n",
       "    }\n",
       "\n",
       "    .dataframe tbody tr th {\n",
       "        vertical-align: top;\n",
       "    }\n",
       "\n",
       "    .dataframe thead th {\n",
       "        text-align: right;\n",
       "    }\n",
       "</style>\n",
       "<table border=\"1\" class=\"dataframe\">\n",
       "  <thead>\n",
       "    <tr style=\"text-align: right;\">\n",
       "      <th></th>\n",
       "      <th>gene</th>\n",
       "      <th>E5sum</th>\n",
       "    </tr>\n",
       "  </thead>\n",
       "  <tbody>\n",
       "    <tr>\n",
       "      <th>0</th>\n",
       "      <td>Mpp6</td>\n",
       "      <td>100.000000</td>\n",
       "    </tr>\n",
       "    <tr>\n",
       "      <th>1</th>\n",
       "      <td>Dfna5</td>\n",
       "      <td>950.000000</td>\n",
       "    </tr>\n",
       "    <tr>\n",
       "      <th>2</th>\n",
       "      <td>Osbpl3</td>\n",
       "      <td>1650.000000</td>\n",
       "    </tr>\n",
       "    <tr>\n",
       "      <th>3</th>\n",
       "      <td>Cycs</td>\n",
       "      <td>650.000000</td>\n",
       "    </tr>\n",
       "    <tr>\n",
       "      <th>4</th>\n",
       "      <td>Mir6371</td>\n",
       "      <td>1916.666667</td>\n",
       "    </tr>\n",
       "    <tr>\n",
       "      <th>...</th>\n",
       "      <td>...</td>\n",
       "      <td>...</td>\n",
       "    </tr>\n",
       "    <tr>\n",
       "      <th>102</th>\n",
       "      <td>Herc3</td>\n",
       "      <td>850.000000</td>\n",
       "    </tr>\n",
       "    <tr>\n",
       "      <th>103</th>\n",
       "      <td>Nap1l5</td>\n",
       "      <td>800.000000</td>\n",
       "    </tr>\n",
       "    <tr>\n",
       "      <th>104</th>\n",
       "      <td>Fam13a</td>\n",
       "      <td>750.000000</td>\n",
       "    </tr>\n",
       "    <tr>\n",
       "      <th>105</th>\n",
       "      <td>Tigd2</td>\n",
       "      <td>950.000000</td>\n",
       "    </tr>\n",
       "    <tr>\n",
       "      <th>106</th>\n",
       "      <td>Gprin3</td>\n",
       "      <td>900.000000</td>\n",
       "    </tr>\n",
       "  </tbody>\n",
       "</table>\n",
       "<p>107 rows × 2 columns</p>\n",
       "</div>"
      ],
      "text/plain": [
       "        gene        E5sum\n",
       "0       Mpp6   100.000000\n",
       "1      Dfna5   950.000000\n",
       "2     Osbpl3  1650.000000\n",
       "3       Cycs   650.000000\n",
       "4    Mir6371  1916.666667\n",
       "..       ...          ...\n",
       "102    Herc3   850.000000\n",
       "103   Nap1l5   800.000000\n",
       "104   Fam13a   750.000000\n",
       "105    Tigd2   950.000000\n",
       "106   Gprin3   900.000000\n",
       "\n",
       "[107 rows x 2 columns]"
      ]
     },
     "execution_count": 26,
     "metadata": {},
     "output_type": "execute_result"
    }
   ],
   "source": [
    "E5genesum = df_E5.iloc[:,[3,6]]\n",
    "E5genesum"
   ]
  },
  {
   "cell_type": "markdown",
   "metadata": {},
   "source": [
    "# 1. Make histogram of E4.0 cumulative methylation frequency"
   ]
  },
  {
   "cell_type": "code",
   "execution_count": 31,
   "metadata": {},
   "outputs": [
    {
     "data": {
      "text/plain": [
       "<function matplotlib.pyplot.show(close=None, block=None)>"
      ]
     },
     "execution_count": 31,
     "metadata": {},
     "output_type": "execute_result"
    },
    {
     "data": {
      "image/png": "[encoded data removed]",
      "text/plain": [
       "<Figure size 432x288 with 1 Axes>"
      ]
     },
     "metadata": {
      "needs_background": "light"
     },
     "output_type": "display_data"
    }
   ],
   "source": [
    "f = open(\"E4mapped.txt\",'r')\n",
    "m_score = []\n",
    "for line in f:\n",
    "    field = line.strip('\\t').split()\n",
    "    if field == '.':\n",
    "        continue\n",
    "    try:\n",
    "        m_score.append(float(field[6]))\n",
    "    except ValueError:\n",
    "        pass\n",
    "    \n",
    "#plot histogram\n",
    "fig, ax = plt.subplots()\n",
    "ax.hist(m_score, color = 'm')\n",
    "ax.set_title(\"Cumulative Methylation Scores of Each Promoter in E4.0 Cells\")\n",
    "ax.set_xlabel (\"Methylation\")\n",
    "ax.set_ylabel (\"Frequency\")\n",
    "plt.show"
   ]
  },
  {
   "cell_type": "markdown",
   "metadata": {},
   "source": [
    "# 2. Make histogram of E5.5 cumulative methylation frequency"
   ]
  },
  {
   "cell_type": "code",
   "execution_count": 32,
   "metadata": {},
   "outputs": [
    {
     "data": {
      "text/plain": [
       "<function matplotlib.pyplot.show(close=None, block=None)>"
      ]
     },
     "execution_count": 32,
     "metadata": {},
     "output_type": "execute_result"
    },
    {
     "data": {
      "image/png": "[encoded data removed]",
      "text/plain": [
       "<Figure size 432x288 with 1 Axes>"
      ]
     },
     "metadata": {
      "needs_background": "light"
     },
     "output_type": "display_data"
    }
   ],
   "source": [
    "f = open(\"E5mapped.txt\",'r')\n",
    "m_score = []\n",
    "for line in f:\n",
    "    field = line.strip('\\t').split()\n",
    "    if field == '.':\n",
    "        continue\n",
    "    try:\n",
    "        m_score.append(float(field[6]))\n",
    "    except ValueError:\n",
    "        pass\n",
    "    \n",
    "#plot histogram\n",
    "fig, ax = plt.subplots()\n",
    "ax.hist(m_score, color = 'm')\n",
    "ax.set_title(\"Cumulative Methylation Scores of Each Promoter in E5.5 Cells\")\n",
    "ax.set_xlabel (\"Methylation\")\n",
    "ax.set_ylabel (\"Frequency\")\n",
    "plt.show"
   ]
  },
  {
   "cell_type": "markdown",
   "metadata": {},
   "source": [
    "# 3. Scatterplot of E4.0 by E5.5 promoter methlylation scores. Color the hox genes a different color than the remaining genes"
   ]
  },
  {
   "cell_type": "code",
   "execution_count": 40,
   "metadata": {},
   "outputs": [
    {
     "data": {
      "text/html": [
       "<div>\n",
       "<style scoped>\n",
       "    .dataframe tbody tr th:only-of-type {\n",
       "        vertical-align: middle;\n",
       "    }\n",
       "\n",
       "    .dataframe tbody tr th {\n",
       "        vertical-align: top;\n",
       "    }\n",
       "\n",
       "    .dataframe thead th {\n",
       "        text-align: right;\n",
       "    }\n",
       "</style>\n",
       "<table border=\"1\" class=\"dataframe\">\n",
       "  <thead>\n",
       "    <tr style=\"text-align: right;\">\n",
       "      <th></th>\n",
       "      <th>gene</th>\n",
       "      <th>E4sum</th>\n",
       "      <th>E5sum</th>\n",
       "    </tr>\n",
       "  </thead>\n",
       "  <tbody>\n",
       "    <tr>\n",
       "      <th>0</th>\n",
       "      <td>Mpp6</td>\n",
       "      <td>0</td>\n",
       "      <td>100.000000</td>\n",
       "    </tr>\n",
       "    <tr>\n",
       "      <th>1</th>\n",
       "      <td>Dfna5</td>\n",
       "      <td>0</td>\n",
       "      <td>950.000000</td>\n",
       "    </tr>\n",
       "    <tr>\n",
       "      <th>2</th>\n",
       "      <td>Osbpl3</td>\n",
       "      <td>0</td>\n",
       "      <td>1650.000000</td>\n",
       "    </tr>\n",
       "    <tr>\n",
       "      <th>3</th>\n",
       "      <td>Cycs</td>\n",
       "      <td>133.3333333</td>\n",
       "      <td>650.000000</td>\n",
       "    </tr>\n",
       "    <tr>\n",
       "      <th>4</th>\n",
       "      <td>Mir6371</td>\n",
       "      <td>700</td>\n",
       "      <td>1916.666667</td>\n",
       "    </tr>\n",
       "    <tr>\n",
       "      <th>...</th>\n",
       "      <td>...</td>\n",
       "      <td>...</td>\n",
       "      <td>...</td>\n",
       "    </tr>\n",
       "    <tr>\n",
       "      <th>102</th>\n",
       "      <td>Herc3</td>\n",
       "      <td>0</td>\n",
       "      <td>850.000000</td>\n",
       "    </tr>\n",
       "    <tr>\n",
       "      <th>103</th>\n",
       "      <td>Nap1l5</td>\n",
       "      <td>866.6666667</td>\n",
       "      <td>800.000000</td>\n",
       "    </tr>\n",
       "    <tr>\n",
       "      <th>104</th>\n",
       "      <td>Fam13a</td>\n",
       "      <td>0</td>\n",
       "      <td>750.000000</td>\n",
       "    </tr>\n",
       "    <tr>\n",
       "      <th>105</th>\n",
       "      <td>Tigd2</td>\n",
       "      <td>100</td>\n",
       "      <td>950.000000</td>\n",
       "    </tr>\n",
       "    <tr>\n",
       "      <th>106</th>\n",
       "      <td>Gprin3</td>\n",
       "      <td>0</td>\n",
       "      <td>900.000000</td>\n",
       "    </tr>\n",
       "  </tbody>\n",
       "</table>\n",
       "<p>107 rows × 3 columns</p>\n",
       "</div>"
      ],
      "text/plain": [
       "        gene        E4sum        E5sum\n",
       "0       Mpp6            0   100.000000\n",
       "1      Dfna5            0   950.000000\n",
       "2     Osbpl3            0  1650.000000\n",
       "3       Cycs  133.3333333   650.000000\n",
       "4    Mir6371          700  1916.666667\n",
       "..       ...          ...          ...\n",
       "102    Herc3            0   850.000000\n",
       "103   Nap1l5  866.6666667   800.000000\n",
       "104   Fam13a            0   750.000000\n",
       "105    Tigd2          100   950.000000\n",
       "106   Gprin3            0   900.000000\n",
       "\n",
       "[107 rows x 3 columns]"
      ]
     },
     "execution_count": 40,
     "metadata": {},
     "output_type": "execute_result"
    }
   ],
   "source": [
    "#merge sum dataframes \n",
    "df = E4genesum.merge(E5genesum, on='gene')\n",
    "df"
   ]
  },
  {
   "cell_type": "code",
   "execution_count": 43,
   "metadata": {},
   "outputs": [
    {
     "name": "stdout",
     "output_type": "stream",
     "text": [
      "[0.0, 0.0, 0.0, 133.3333333, 700.0, 300.0, 0.0, 100.0, 100.0, 50.0, 150.0, 100.0, 50.0, 100.0, 0.0, 100.0, 0.0, 100.0, 0.0, 450.0, 100.0, 100.0, 500.0, 200.0, 310.0, 400.0, 200.0, 0.0, 200.0, 0.0, 400.0, 400.0, 0.0, 600.0, 50.0, 66.66666667, 300.0, 550.0, 200.0, 0.0, 300.0, 500.0, 0.0, 100.0, 100.0, 50.0, 50.0, 0.0, 50.0, 116.6666667, 0.0, 200.0, 200.0, 100.0, 0.0, 100.0, 0.0, 100.0, 200.0, 700.0, 100.0, 50.0, 0.0, 300.0, 125.0, 100.0, 350.0, 0.0, 0.0, 100.0, 100.0, 350.0, 150.0, 50.0, 0.0, 0.0, 200.0, 12.5, 0.0, 50.0, 200.0, 14.28571429, 0.0, 50.0, 0.0, 100.0, 100.0, 33.33333333, 0.0, 100.0, 0.0, 233.3333333, 100.0, 100.0, 0.0, 0.0, 0.0, 100.0, 150.0, 125.0, 0.0, 0.0, 866.6666667, 0.0, 100.0, 0.0] [100.0, 950.0, 1650.0, 650.0, 1916.6666670000002, 1383.333333, 400.0, 1433.333333, 1083.333333, 0.0, 0.0, 700.0, 250.0, 2900.0, 50.0, 0.0, 0.0, 0.0, 750.0, 450.0, 283.3333333, 500.0, 183.33333330000002, 400.0, 266.6666667, 0.0, 450.0, 616.6666667000001, 0.0, 100.0, 100.0, 100.0, 200.0, 550.0, 666.6666667000001, 600.0, 966.6666667000002, 1841.6666670000002, 250.0, 650.0, 1050.0, 400.0, 950.0, 1450.0, 800.0, 300.0, 300.0, 383.3333333, 925.0, 1426.666667, 250.0, 400.0, 600.0, 600.0, 1200.0, 300.0, 1116.666667, 600.0, 900.0, 1716.6666670000002, 800.0, 300.0, 258.3333333, 1466.666667, 583.3333332999999, 883.3333332999998, 891.6666667000002, 1050.0, 300.0, 350.0, 358.3333333, 216.66666669999998, 150.0, 300.0, 150.0, 533.3333333, 183.33333330000002, 150.0, 500.0, 233.33333330000002, 200.0, 291.6666667, 133.3333333, 900.0, 300.0, 825.0, 100.0, 1233.333333, 500.0, 200.0, 450.0, 300.0, 266.6666667, 870.0, 200.0, 83.33333333, 350.0, 240.0, 550.0, 200.0, 500.0, 850.0, 800.0, 750.0, 950.0, 900.0]\n"
     ]
    }
   ],
   "source": [
    "#Get all the hox genes\n",
    "E4_hox = []\n",
    "E4_all = []\n",
    "E5_hox = []\n",
    "E5_all = []\n",
    "for i, row in df.iterrows():\n",
    "    if row['E4sum'] == '.' or row['E5sum']== '.':\n",
    "        continue\n",
    "    E4_all.append(float(row['E4sum']))\n",
    "    E5_all.append(float(row[\"E5sum\"]))\n",
    "    if row['gene'].startswith('Hox'):\n",
    "        E4_hox.append(float(row['E4sum']))\n",
    "    if row['gene'].startswith('Hox'):\n",
    "         E5_hox.append(float(row['E5sum']))\n",
    "print(E4_all,E5_all)"
   ]
  },
  {
   "cell_type": "code",
   "execution_count": 50,
   "metadata": {},
   "outputs": [
    {
     "data": {
      "image/png": "[encoded data removed]",
      "text/plain": [
       "<Figure size 432x288 with 1 Axes>"
      ]
     },
     "metadata": {
      "needs_background": "light"
     },
     "output_type": "display_data"
    }
   ],
   "source": [
    "#plot scatter\n",
    "\n",
    "fig, ax = plt.subplots()\n",
    "ax.scatter(x = E4_all, y = E5_all, color = 'blue', s=20, label = \"Non-Hox\")\n",
    "ax.scatter(x = E4_hox, y = E5_hox, color = 'red', s = 20, label = 'Hox')\n",
    "ax.set_title(\"Scatter Plot of E4.0 and E5.5 Methylation Scores\")\n",
    "ax.set_xlabel(\"E4.0\")\n",
    "ax.set_ylabel(\"E5.5\") \n",
    "ax.legend()\n",
    "plt.show()"
   ]
  },
  {
   "cell_type": "markdown",
   "metadata": {},
   "source": [
    "# 4. T-tests"
   ]
  },
  {
   "cell_type": "code",
   "execution_count": 58,
   "metadata": {},
   "outputs": [],
   "source": [
    "import scipy\n",
    "from scipy import stats"
   ]
  },
  {
   "cell_type": "code",
   "execution_count": 59,
   "metadata": {},
   "outputs": [
    {
     "data": {
      "text/plain": [
       "0.26919025040246874"
      ]
     },
     "execution_count": 59,
     "metadata": {},
     "output_type": "execute_result"
    }
   ],
   "source": [
    "#E4\n",
    "resultsE4 = scipy.stats.ttest_ind(E4_hox, E4_all)\n",
    "resultsE4.pvalue"
   ]
  },
  {
   "cell_type": "code",
   "execution_count": 60,
   "metadata": {},
   "outputs": [
    {
     "data": {
      "text/plain": [
       "0.011599661264754027"
      ]
     },
     "execution_count": 60,
     "metadata": {},
     "output_type": "execute_result"
    }
   ],
   "source": [
    "#E5\n",
    "resultsE5 = scipy.stats.ttest_ind(E5_hox, E5_all)\n",
    "resultsE5.pvalue"
   ]
  },
  {
   "cell_type": "code",
   "execution_count": null,
   "metadata": {},
   "outputs": [],
   "source": []
  },
  {
   "cell_type": "code",
   "execution_count": null,
   "metadata": {},
   "outputs": [],
   "source": []
  },
  {
   "cell_type": "code",
   "execution_count": null,
   "metadata": {},
   "outputs": [],
   "source": []
  },
  {
   "cell_type": "code",
   "execution_count": null,
   "metadata": {},
   "outputs": [],
   "source": []
  },
  {
   "cell_type": "code",
   "execution_count": null,
   "metadata": {},
   "outputs": [],
   "source": []
  },
  {
   "cell_type": "code",
   "execution_count": null,
   "metadata": {},
   "outputs": [],
   "source": []
  },
  {
   "cell_type": "code",
   "execution_count": null,
   "metadata": {},
   "outputs": [],
   "source": []
  },
  {
   "cell_type": "code",
   "execution_count": null,
   "metadata": {},
   "outputs": [],
   "source": []
  },
  {
   "cell_type": "code",
   "execution_count": null,
   "metadata": {},
   "outputs": [],
   "source": []
  }
 ],
 "metadata": {
  "kernelspec": {
   "display_name": "Python 3",
   "language": "python",
   "name": "python3"
  },
  "language_info": {
   "codemirror_mode": {
    "name": "ipython",
    "version": 3
   },
   "file_extension": ".py",
   "mimetype": "text/x-python",
   "name": "python",
   "nbconvert_exporter": "python",
   "pygments_lexer": "ipython3",
   "version": "3.7.1"
  }
 },
 "nbformat": 4,
 "nbformat_minor": 4
}
