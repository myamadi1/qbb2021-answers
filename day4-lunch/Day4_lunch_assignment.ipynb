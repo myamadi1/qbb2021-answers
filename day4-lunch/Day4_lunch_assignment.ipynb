{
 "cells": [
  {
   "cell_type": "markdown",
   "metadata": {},
   "source": [
    "# 1. Create an MA plot to visualize RNA-seq data with the average gene abundance on the x-axis and fold-change on the y-axis"
   ]
  },
  {
   "cell_type": "markdown",
   "metadata": {},
   "source": [
    "I will be comparing male10 and female10 to observe if there are any changes in expression between sex at this time point."
   ]
  },
  {
   "cell_type": "markdown",
   "metadata": {},
   "source": [
    "# Load Packages"
   ]
  },
  {
   "cell_type": "code",
   "execution_count": 2,
   "metadata": {},
   "outputs": [],
   "source": [
    "import numpy as np\n",
    "import pandas as pd\n",
    "import matplotlib.pyplot as plt"
   ]
  },
  {
   "cell_type": "markdown",
   "metadata": {},
   "source": [
    "# Load fpkms.csv"
   ]
  },
  {
   "cell_type": "code",
   "execution_count": 3,
   "metadata": {},
   "outputs": [
    {
     "data": {
      "text/html": [
       "<div>\n",
       "<style scoped>\n",
       "    .dataframe tbody tr th:only-of-type {\n",
       "        vertical-align: middle;\n",
       "    }\n",
       "\n",
       "    .dataframe tbody tr th {\n",
       "        vertical-align: top;\n",
       "    }\n",
       "\n",
       "    .dataframe thead th {\n",
       "        text-align: right;\n",
       "    }\n",
       "</style>\n",
       "<table border=\"1\" class=\"dataframe\">\n",
       "  <thead>\n",
       "    <tr style=\"text-align: right;\">\n",
       "      <th></th>\n",
       "      <th>t_name</th>\n",
       "      <th>gene_name</th>\n",
       "      <th>male_10</th>\n",
       "      <th>male_11</th>\n",
       "      <th>male_12</th>\n",
       "      <th>male_13</th>\n",
       "      <th>male_14A</th>\n",
       "      <th>male_14B</th>\n",
       "      <th>male_14C</th>\n",
       "      <th>male_14D</th>\n",
       "      <th>female_10</th>\n",
       "      <th>female_11</th>\n",
       "      <th>female_12</th>\n",
       "      <th>female_13</th>\n",
       "      <th>female_14A</th>\n",
       "      <th>female_14B</th>\n",
       "      <th>female_14C</th>\n",
       "      <th>female_14D</th>\n",
       "    </tr>\n",
       "  </thead>\n",
       "  <tbody>\n",
       "    <tr>\n",
       "      <th>0</th>\n",
       "      <td>FBtr0114258</td>\n",
       "      <td>CR41571</td>\n",
       "      <td>0.000000</td>\n",
       "      <td>0.000000</td>\n",
       "      <td>0.000000</td>\n",
       "      <td>0.000000</td>\n",
       "      <td>0.000000</td>\n",
       "      <td>0.000000</td>\n",
       "      <td>0.000000</td>\n",
       "      <td>0.000000</td>\n",
       "      <td>0.000000</td>\n",
       "      <td>0.000000</td>\n",
       "      <td>0.000000</td>\n",
       "      <td>0.000000</td>\n",
       "      <td>0.000000</td>\n",
       "      <td>0.000000</td>\n",
       "      <td>0.000000</td>\n",
       "      <td>0.00000</td>\n",
       "    </tr>\n",
       "    <tr>\n",
       "      <th>1</th>\n",
       "      <td>FBtr0346770</td>\n",
       "      <td>CG45784</td>\n",
       "      <td>0.000000</td>\n",
       "      <td>0.000000</td>\n",
       "      <td>0.000000</td>\n",
       "      <td>0.000000</td>\n",
       "      <td>0.000000</td>\n",
       "      <td>0.000000</td>\n",
       "      <td>0.000000</td>\n",
       "      <td>0.000000</td>\n",
       "      <td>0.000000</td>\n",
       "      <td>0.000000</td>\n",
       "      <td>0.000000</td>\n",
       "      <td>0.000000</td>\n",
       "      <td>0.000000</td>\n",
       "      <td>0.000000</td>\n",
       "      <td>0.000000</td>\n",
       "      <td>0.00000</td>\n",
       "    </tr>\n",
       "    <tr>\n",
       "      <th>2</th>\n",
       "      <td>FBtr0302440</td>\n",
       "      <td>CR12798</td>\n",
       "      <td>0.000000</td>\n",
       "      <td>0.000000</td>\n",
       "      <td>0.000000</td>\n",
       "      <td>0.000000</td>\n",
       "      <td>0.000000</td>\n",
       "      <td>0.000000</td>\n",
       "      <td>0.000000</td>\n",
       "      <td>0.000000</td>\n",
       "      <td>0.000000</td>\n",
       "      <td>0.000000</td>\n",
       "      <td>0.000000</td>\n",
       "      <td>0.000000</td>\n",
       "      <td>0.000000</td>\n",
       "      <td>0.000000</td>\n",
       "      <td>0.000000</td>\n",
       "      <td>0.00000</td>\n",
       "    </tr>\n",
       "    <tr>\n",
       "      <th>3</th>\n",
       "      <td>FBtr0302347</td>\n",
       "      <td>CR40182</td>\n",
       "      <td>23.712564</td>\n",
       "      <td>11.967821</td>\n",
       "      <td>20.767498</td>\n",
       "      <td>13.566818</td>\n",
       "      <td>18.802116</td>\n",
       "      <td>26.802691</td>\n",
       "      <td>22.819895</td>\n",
       "      <td>11.682728</td>\n",
       "      <td>21.894249</td>\n",
       "      <td>13.922059</td>\n",
       "      <td>16.482141</td>\n",
       "      <td>12.622680</td>\n",
       "      <td>31.800016</td>\n",
       "      <td>22.883186</td>\n",
       "      <td>14.330216</td>\n",
       "      <td>17.20257</td>\n",
       "    </tr>\n",
       "    <tr>\n",
       "      <th>4</th>\n",
       "      <td>FBtr0346769</td>\n",
       "      <td>CG45783</td>\n",
       "      <td>0.000000</td>\n",
       "      <td>0.000000</td>\n",
       "      <td>0.000000</td>\n",
       "      <td>0.000000</td>\n",
       "      <td>0.000000</td>\n",
       "      <td>0.000000</td>\n",
       "      <td>0.000000</td>\n",
       "      <td>0.000000</td>\n",
       "      <td>0.000000</td>\n",
       "      <td>0.000000</td>\n",
       "      <td>0.000000</td>\n",
       "      <td>0.000000</td>\n",
       "      <td>0.000000</td>\n",
       "      <td>0.000000</td>\n",
       "      <td>0.000000</td>\n",
       "      <td>0.00000</td>\n",
       "    </tr>\n",
       "    <tr>\n",
       "      <th>...</th>\n",
       "      <td>...</td>\n",
       "      <td>...</td>\n",
       "      <td>...</td>\n",
       "      <td>...</td>\n",
       "      <td>...</td>\n",
       "      <td>...</td>\n",
       "      <td>...</td>\n",
       "      <td>...</td>\n",
       "      <td>...</td>\n",
       "      <td>...</td>\n",
       "      <td>...</td>\n",
       "      <td>...</td>\n",
       "      <td>...</td>\n",
       "      <td>...</td>\n",
       "      <td>...</td>\n",
       "      <td>...</td>\n",
       "      <td>...</td>\n",
       "      <td>...</td>\n",
       "    </tr>\n",
       "    <tr>\n",
       "      <th>34713</th>\n",
       "      <td>FBtr0114187</td>\n",
       "      <td>CR40502</td>\n",
       "      <td>0.000000</td>\n",
       "      <td>0.000000</td>\n",
       "      <td>0.000000</td>\n",
       "      <td>0.000000</td>\n",
       "      <td>0.000000</td>\n",
       "      <td>0.000000</td>\n",
       "      <td>0.000000</td>\n",
       "      <td>0.000000</td>\n",
       "      <td>0.000000</td>\n",
       "      <td>0.000000</td>\n",
       "      <td>0.000000</td>\n",
       "      <td>0.000000</td>\n",
       "      <td>0.000000</td>\n",
       "      <td>0.000000</td>\n",
       "      <td>0.000000</td>\n",
       "      <td>0.00000</td>\n",
       "    </tr>\n",
       "    <tr>\n",
       "      <th>34714</th>\n",
       "      <td>FBtr0304147</td>\n",
       "      <td>CR40719</td>\n",
       "      <td>0.000000</td>\n",
       "      <td>0.000000</td>\n",
       "      <td>0.000000</td>\n",
       "      <td>0.000000</td>\n",
       "      <td>0.000000</td>\n",
       "      <td>0.000000</td>\n",
       "      <td>0.000000</td>\n",
       "      <td>0.000000</td>\n",
       "      <td>0.000000</td>\n",
       "      <td>0.000000</td>\n",
       "      <td>0.000000</td>\n",
       "      <td>0.000000</td>\n",
       "      <td>0.000000</td>\n",
       "      <td>0.000000</td>\n",
       "      <td>0.000000</td>\n",
       "      <td>0.00000</td>\n",
       "    </tr>\n",
       "    <tr>\n",
       "      <th>34715</th>\n",
       "      <td>FBtr0114216</td>\n",
       "      <td>CR40679</td>\n",
       "      <td>2.011199</td>\n",
       "      <td>0.000000</td>\n",
       "      <td>7.994137</td>\n",
       "      <td>2.064200</td>\n",
       "      <td>3.141665</td>\n",
       "      <td>0.000000</td>\n",
       "      <td>1.519102</td>\n",
       "      <td>9.190801</td>\n",
       "      <td>13.475658</td>\n",
       "      <td>1.771435</td>\n",
       "      <td>4.649351</td>\n",
       "      <td>7.004174</td>\n",
       "      <td>6.904506</td>\n",
       "      <td>0.835856</td>\n",
       "      <td>1.151747</td>\n",
       "      <td>1.98591</td>\n",
       "    </tr>\n",
       "    <tr>\n",
       "      <th>34716</th>\n",
       "      <td>FBtr0114222</td>\n",
       "      <td>CR40743</td>\n",
       "      <td>0.000000</td>\n",
       "      <td>0.000000</td>\n",
       "      <td>0.000000</td>\n",
       "      <td>0.000000</td>\n",
       "      <td>0.000000</td>\n",
       "      <td>0.000000</td>\n",
       "      <td>0.000000</td>\n",
       "      <td>0.000000</td>\n",
       "      <td>0.000000</td>\n",
       "      <td>0.000000</td>\n",
       "      <td>0.000000</td>\n",
       "      <td>0.000000</td>\n",
       "      <td>0.000000</td>\n",
       "      <td>0.000000</td>\n",
       "      <td>0.000000</td>\n",
       "      <td>0.00000</td>\n",
       "    </tr>\n",
       "    <tr>\n",
       "      <th>34717</th>\n",
       "      <td>FBtr0114283</td>\n",
       "      <td>CR41619</td>\n",
       "      <td>0.000000</td>\n",
       "      <td>0.000000</td>\n",
       "      <td>0.000000</td>\n",
       "      <td>0.000000</td>\n",
       "      <td>0.000000</td>\n",
       "      <td>0.000000</td>\n",
       "      <td>0.000000</td>\n",
       "      <td>0.000000</td>\n",
       "      <td>0.000000</td>\n",
       "      <td>0.000000</td>\n",
       "      <td>0.000000</td>\n",
       "      <td>0.000000</td>\n",
       "      <td>0.000000</td>\n",
       "      <td>0.000000</td>\n",
       "      <td>0.000000</td>\n",
       "      <td>0.00000</td>\n",
       "    </tr>\n",
       "  </tbody>\n",
       "</table>\n",
       "<p>34718 rows × 18 columns</p>\n",
       "</div>"
      ],
      "text/plain": [
       "            t_name gene_name    male_10    male_11    male_12    male_13  \\\n",
       "0      FBtr0114258   CR41571   0.000000   0.000000   0.000000   0.000000   \n",
       "1      FBtr0346770   CG45784   0.000000   0.000000   0.000000   0.000000   \n",
       "2      FBtr0302440   CR12798   0.000000   0.000000   0.000000   0.000000   \n",
       "3      FBtr0302347   CR40182  23.712564  11.967821  20.767498  13.566818   \n",
       "4      FBtr0346769   CG45783   0.000000   0.000000   0.000000   0.000000   \n",
       "...            ...       ...        ...        ...        ...        ...   \n",
       "34713  FBtr0114187   CR40502   0.000000   0.000000   0.000000   0.000000   \n",
       "34714  FBtr0304147   CR40719   0.000000   0.000000   0.000000   0.000000   \n",
       "34715  FBtr0114216   CR40679   2.011199   0.000000   7.994137   2.064200   \n",
       "34716  FBtr0114222   CR40743   0.000000   0.000000   0.000000   0.000000   \n",
       "34717  FBtr0114283   CR41619   0.000000   0.000000   0.000000   0.000000   \n",
       "\n",
       "        male_14A   male_14B   male_14C   male_14D  female_10  female_11  \\\n",
       "0       0.000000   0.000000   0.000000   0.000000   0.000000   0.000000   \n",
       "1       0.000000   0.000000   0.000000   0.000000   0.000000   0.000000   \n",
       "2       0.000000   0.000000   0.000000   0.000000   0.000000   0.000000   \n",
       "3      18.802116  26.802691  22.819895  11.682728  21.894249  13.922059   \n",
       "4       0.000000   0.000000   0.000000   0.000000   0.000000   0.000000   \n",
       "...          ...        ...        ...        ...        ...        ...   \n",
       "34713   0.000000   0.000000   0.000000   0.000000   0.000000   0.000000   \n",
       "34714   0.000000   0.000000   0.000000   0.000000   0.000000   0.000000   \n",
       "34715   3.141665   0.000000   1.519102   9.190801  13.475658   1.771435   \n",
       "34716   0.000000   0.000000   0.000000   0.000000   0.000000   0.000000   \n",
       "34717   0.000000   0.000000   0.000000   0.000000   0.000000   0.000000   \n",
       "\n",
       "       female_12  female_13  female_14A  female_14B  female_14C  female_14D  \n",
       "0       0.000000   0.000000    0.000000    0.000000    0.000000     0.00000  \n",
       "1       0.000000   0.000000    0.000000    0.000000    0.000000     0.00000  \n",
       "2       0.000000   0.000000    0.000000    0.000000    0.000000     0.00000  \n",
       "3      16.482141  12.622680   31.800016   22.883186   14.330216    17.20257  \n",
       "4       0.000000   0.000000    0.000000    0.000000    0.000000     0.00000  \n",
       "...          ...        ...         ...         ...         ...         ...  \n",
       "34713   0.000000   0.000000    0.000000    0.000000    0.000000     0.00000  \n",
       "34714   0.000000   0.000000    0.000000    0.000000    0.000000     0.00000  \n",
       "34715   4.649351   7.004174    6.904506    0.835856    1.151747     1.98591  \n",
       "34716   0.000000   0.000000    0.000000    0.000000    0.000000     0.00000  \n",
       "34717   0.000000   0.000000    0.000000    0.000000    0.000000     0.00000  \n",
       "\n",
       "[34718 rows x 18 columns]"
      ]
     },
     "execution_count": 3,
     "metadata": {},
     "output_type": "execute_result"
    }
   ],
   "source": [
    "df_fpkms = pd.read_csv( \"../../qbb2021/data/fpkms.csv\" )\n",
    "df_fpkms"
   ]
  },
  {
   "cell_type": "markdown",
   "metadata": {},
   "source": [
    "# Check, report, subset"
   ]
  },
  {
   "cell_type": "code",
   "execution_count": 4,
   "metadata": {},
   "outputs": [
    {
     "data": {
      "text/plain": [
       "pandas.core.frame.DataFrame"
      ]
     },
     "execution_count": 4,
     "metadata": {},
     "output_type": "execute_result"
    }
   ],
   "source": [
    "type(df_fpkms)"
   ]
  },
  {
   "cell_type": "code",
   "execution_count": 5,
   "metadata": {},
   "outputs": [
    {
     "data": {
      "text/plain": [
       "(34718, 18)"
      ]
     },
     "execution_count": 5,
     "metadata": {},
     "output_type": "execute_result"
    }
   ],
   "source": [
    "df_fpkms.shape"
   ]
  },
  {
   "cell_type": "code",
   "execution_count": 6,
   "metadata": {},
   "outputs": [
    {
     "data": {
      "text/plain": [
       "0        FBtr0114258\n",
       "1        FBtr0346770\n",
       "2        FBtr0302440\n",
       "3        FBtr0302347\n",
       "4        FBtr0346769\n",
       "            ...     \n",
       "34713    FBtr0114187\n",
       "34714    FBtr0304147\n",
       "34715    FBtr0114216\n",
       "34716    FBtr0114222\n",
       "34717    FBtr0114283\n",
       "Name: t_name, Length: 34718, dtype: object"
      ]
     },
     "execution_count": 6,
     "metadata": {},
     "output_type": "execute_result"
    }
   ],
   "source": [
    "df_fpkms.loc[:,\"t_name\"]"
   ]
  },
  {
   "cell_type": "markdown",
   "metadata": {},
   "source": [
    "# Subset male10 and store in a variable"
   ]
  },
  {
   "cell_type": "code",
   "execution_count": 7,
   "metadata": {},
   "outputs": [
    {
     "data": {
      "text/plain": [
       "0         0.000000\n",
       "1         0.000000\n",
       "2         0.000000\n",
       "3        23.712564\n",
       "4         0.000000\n",
       "           ...    \n",
       "34713     0.000000\n",
       "34714     0.000000\n",
       "34715     2.011199\n",
       "34716     0.000000\n",
       "34717     0.000000\n",
       "Name: male_10, Length: 34718, dtype: float64"
      ]
     },
     "execution_count": 7,
     "metadata": {},
     "output_type": "execute_result"
    }
   ],
   "source": [
    "df_fpkms.loc[:,\"male_10\"]"
   ]
  },
  {
   "cell_type": "code",
   "execution_count": 8,
   "metadata": {},
   "outputs": [],
   "source": [
    "male_10 = df_fpkms.loc[:,\"male_10\"]"
   ]
  },
  {
   "cell_type": "markdown",
   "metadata": {},
   "source": [
    "# Subset female10 and store in a variable"
   ]
  },
  {
   "cell_type": "code",
   "execution_count": 9,
   "metadata": {},
   "outputs": [
    {
     "data": {
      "text/plain": [
       "0         0.000000\n",
       "1         0.000000\n",
       "2         0.000000\n",
       "3        21.894249\n",
       "4         0.000000\n",
       "           ...    \n",
       "34713     0.000000\n",
       "34714     0.000000\n",
       "34715    13.475658\n",
       "34716     0.000000\n",
       "34717     0.000000\n",
       "Name: female_10, Length: 34718, dtype: float64"
      ]
     },
     "execution_count": 9,
     "metadata": {},
     "output_type": "execute_result"
    }
   ],
   "source": [
    "df_fpkms.loc[:,\"female_10\"]"
   ]
  },
  {
   "cell_type": "code",
   "execution_count": 10,
   "metadata": {},
   "outputs": [],
   "source": [
    "female_10 = df_fpkms.loc[:,\"female_10\"]"
   ]
  },
  {
   "cell_type": "markdown",
   "metadata": {},
   "source": [
    "# Average gene abundance for each gene between the two samples and log transform"
   ]
  },
  {
   "cell_type": "code",
   "execution_count": 11,
   "metadata": {},
   "outputs": [
    {
     "data": {
      "text/plain": [
       "0        0.000000\n",
       "1        0.000000\n",
       "2        0.000000\n",
       "3        4.572043\n",
       "4        0.000000\n",
       "           ...   \n",
       "34713    0.000000\n",
       "34714    0.000000\n",
       "34715    2.722948\n",
       "34716    0.000000\n",
       "34717    0.000000\n",
       "Length: 34718, dtype: float64"
      ]
     },
     "execution_count": 11,
     "metadata": {},
     "output_type": "execute_result"
    }
   ],
   "source": [
    "average = (1/2) * (np.log2(male_10+1) + np.log2(female_10+1))\n",
    "average"
   ]
  },
  {
   "cell_type": "markdown",
   "metadata": {},
   "source": [
    "# Log ratio for each gene between the two samples"
   ]
  },
  {
   "cell_type": "code",
   "execution_count": 12,
   "metadata": {},
   "outputs": [
    {
     "data": {
      "text/plain": [
       "0        0.000000\n",
       "1        0.000000\n",
       "2        0.000000\n",
       "3        0.110259\n",
       "4        0.000000\n",
       "           ...   \n",
       "34713    0.000000\n",
       "34714    0.000000\n",
       "34715   -2.265219\n",
       "34716    0.000000\n",
       "34717    0.000000\n",
       "Length: 34718, dtype: float64"
      ]
     },
     "execution_count": 12,
     "metadata": {},
     "output_type": "execute_result"
    }
   ],
   "source": [
    "ratio = ((male_10+1) / (female_10+1))\n",
    "log_ratio = np.log2(ratio)\n",
    "log_ratio"
   ]
  },
  {
   "cell_type": "markdown",
   "metadata": {},
   "source": [
    "# MA plot"
   ]
  },
  {
   "cell_type": "code",
   "execution_count": 13,
   "metadata": {},
   "outputs": [
    {
     "data": {
      "image/png": "[encoded data removed]",
      "text/plain": [
       "<Figure size 432x288 with 1 Axes>"
      ]
     },
     "metadata": {
      "needs_background": "light"
     },
     "output_type": "display_data"
    }
   ],
   "source": [
    "x = average\n",
    "y = log_ratio \n",
    "fig, ax = plt.subplots()\n",
    "ax.scatter(x, y, s=0.05)\n",
    "ax.set_title(\"MA plot of male10 and female10 \")\n",
    "ax.set_xlabel(\"Gene abundance\")\n",
    "ax.set_ylabel(\"Log ratio\")\n",
    "plt.show()"
   ]
  },
  {
   "cell_type": "markdown",
   "metadata": {},
   "source": [
    "# 2. Update your plot of FBtr0331261 abundance over time with:"
   ]
  },
  {
   "cell_type": "markdown",
   "metadata": {},
   "source": [
    "# Subset FBtr0331261"
   ]
  },
  {
   "cell_type": "code",
   "execution_count": 14,
   "metadata": {},
   "outputs": [
    {
     "data": {
      "text/plain": [
       "gene_name         Sxl\n",
       "male_10             0\n",
       "male_11             0\n",
       "male_12             0\n",
       "male_13             0\n",
       "male_14A            0\n",
       "male_14B            0\n",
       "male_14C            0\n",
       "male_14D      2.11732\n",
       "female_10           0\n",
       "female_11           0\n",
       "female_12           0\n",
       "female_13           0\n",
       "female_14A    46.0339\n",
       "female_14B    30.6056\n",
       "female_14C    38.9564\n",
       "female_14D    124.908\n",
       "Name: FBtr0331261, dtype: object"
      ]
     },
     "execution_count": 14,
     "metadata": {},
     "output_type": "execute_result"
    }
   ],
   "source": [
    "df_fpkms = pd.read_csv( \"../../qbb2021/data/fpkms.csv\", index_col=\"t_name\" )\n",
    "df_fpkms.loc[\"FBtr0331261\",:]"
   ]
  },
  {
   "cell_type": "code",
   "execution_count": 15,
   "metadata": {},
   "outputs": [],
   "source": [
    "df_sxl = df_fpkms.loc[\"FBtr0331261\",:]"
   ]
  },
  {
   "cell_type": "markdown",
   "metadata": {},
   "source": [
    "# Subset male and female"
   ]
  },
  {
   "cell_type": "code",
   "execution_count": 16,
   "metadata": {},
   "outputs": [
    {
     "data": {
      "text/plain": [
       "Index(['male_10', 'male_11', 'male_12', 'male_13', 'male_14A', 'male_14B',\n",
       "       'male_14C', 'male_14D'],\n",
       "      dtype='object')"
      ]
     },
     "execution_count": 16,
     "metadata": {},
     "output_type": "execute_result"
    }
   ],
   "source": [
    "male = df_sxl.index[1:9]\n",
    "male"
   ]
  },
  {
   "cell_type": "code",
   "execution_count": 17,
   "metadata": {
    "scrolled": true
   },
   "outputs": [
    {
     "data": {
      "text/plain": [
       "Index(['female_11', 'female_12', 'female_13', 'female_14A', 'female_14B',\n",
       "       'female_14C', 'female_14D'],\n",
       "      dtype='object')"
      ]
     },
     "execution_count": 17,
     "metadata": {},
     "output_type": "execute_result"
    }
   ],
   "source": [
    "female = df_sxl.index[10:18]\n",
    "female"
   ]
  },
  {
   "cell_type": "code",
   "execution_count": 18,
   "metadata": {},
   "outputs": [
    {
     "data": {
      "text/plain": [
       "male_10           0\n",
       "male_11           0\n",
       "male_12           0\n",
       "male_13           0\n",
       "male_14A          0\n",
       "male_14B          0\n",
       "male_14C          0\n",
       "male_14D    2.11732\n",
       "Name: FBtr0331261, dtype: object"
      ]
     },
     "execution_count": 18,
     "metadata": {},
     "output_type": "execute_result"
    }
   ],
   "source": [
    "male_values = df_sxl[1:9]\n",
    "male_values"
   ]
  },
  {
   "cell_type": "code",
   "execution_count": 28,
   "metadata": {},
   "outputs": [
    {
     "data": {
      "text/plain": [
       "female_10           0\n",
       "female_11           0\n",
       "female_12           0\n",
       "female_13           0\n",
       "female_14A    46.0339\n",
       "female_14B    30.6056\n",
       "female_14C    38.9564\n",
       "female_14D    124.908\n",
       "Name: FBtr0331261, dtype: object"
      ]
     },
     "execution_count": 28,
     "metadata": {},
     "output_type": "execute_result"
    }
   ],
   "source": [
    "female_values = df_sxl[9:18]\n",
    "female_values"
   ]
  },
  {
   "cell_type": "code",
   "execution_count": 20,
   "metadata": {},
   "outputs": [],
   "source": [
    "xuse = ['10','11','12','13','14A','14B','14C','14D']"
   ]
  },
  {
   "cell_type": "markdown",
   "metadata": {},
   "source": [
    "# Time course plot with male "
   ]
  },
  {
   "cell_type": "code",
   "execution_count": 21,
   "metadata": {},
   "outputs": [],
   "source": [
    "x = xuse\n",
    "y = male_values"
   ]
  },
  {
   "cell_type": "code",
   "execution_count": 22,
   "metadata": {},
   "outputs": [
    {
     "data": {
      "image/png": "[encoded data removed]",
      "text/plain": [
       "<Figure size 432x288 with 1 Axes>"
      ]
     },
     "metadata": {
      "needs_background": "light"
     },
     "output_type": "display_data"
    }
   ],
   "source": [
    "fig, ax = plt.subplots()\n",
    "ax.plot(x,y)\n",
    "plt.show()"
   ]
  },
  {
   "cell_type": "markdown",
   "metadata": {},
   "source": [
    "# Time course plot with female"
   ]
  },
  {
   "cell_type": "code",
   "execution_count": 29,
   "metadata": {},
   "outputs": [],
   "source": [
    "x2 = xuse\n",
    "y2 = female_values"
   ]
  },
  {
   "cell_type": "code",
   "execution_count": 30,
   "metadata": {},
   "outputs": [
    {
     "data": {
      "image/png": "[encoded data removed]",
      "text/plain": [
       "<Figure size 432x288 with 1 Axes>"
      ]
     },
     "metadata": {
      "needs_background": "light"
     },
     "output_type": "display_data"
    }
   ],
   "source": [
    "fig, ax = plt.subplots()\n",
    "ax.plot(x2,y2)\n",
    "plt.show()"
   ]
  },
  {
   "cell_type": "markdown",
   "metadata": {},
   "source": [
    "# Overlayed male and female time course"
   ]
  },
  {
   "cell_type": "code",
   "execution_count": 31,
   "metadata": {},
   "outputs": [
    {
     "data": {
      "image/png": "[encoded data removed]",
      "text/plain": [
       "<Figure size 432x288 with 1 Axes>"
      ]
     },
     "metadata": {
      "needs_background": "light"
     },
     "output_type": "display_data"
    }
   ],
   "source": [
    "fig, ax = plt.subplots()\n",
    "ax.plot( x, y, label = 'male' )\n",
    "ax.plot( x2, y2, label = 'female')\n",
    "ax.set_title(\"Time course of FBtr0331261\")\n",
    "ax.set_xlabel(\"Time points\")\n",
    "ax.set_ylabel(\"fpkm values\")\n",
    "ax.legend()\n",
    "plt.show()"
   ]
  },
  {
   "cell_type": "markdown",
   "metadata": {},
   "source": [
    "# Time course with stage 14 replicates"
   ]
  },
  {
   "cell_type": "code",
   "execution_count": 32,
   "metadata": {},
   "outputs": [
    {
     "data": {
      "text/plain": [
       "male_14A            0\n",
       "male_14B            0\n",
       "male_14C            0\n",
       "male_14D            0\n",
       "female_14A          0\n",
       "female_14B    79.1035\n",
       "female_14C    182.233\n",
       "female_14D    2.40947\n",
       "gene_name         Sxl\n",
       "Name: FBtr0331261, dtype: object"
      ]
     },
     "execution_count": 32,
     "metadata": {},
     "output_type": "execute_result"
    }
   ],
   "source": [
    "df_fpkms = pd.read_csv( \"../../qbb2021/data/replicates.csv\", index_col=\"t_name\" )\n",
    "df_fpkms.loc[\"FBtr0331261\",:]"
   ]
  },
  {
   "cell_type": "code",
   "execution_count": 38,
   "metadata": {},
   "outputs": [],
   "source": [
    "df_rep = df_fpkms.loc[\"FBtr0331261\",:]"
   ]
  },
  {
   "cell_type": "code",
   "execution_count": 39,
   "metadata": {},
   "outputs": [
    {
     "data": {
      "text/plain": [
       "male_14A    0\n",
       "male_14B    0\n",
       "male_14C    0\n",
       "male_14D    0\n",
       "Name: FBtr0331261, dtype: object"
      ]
     },
     "execution_count": 39,
     "metadata": {},
     "output_type": "execute_result"
    }
   ],
   "source": [
    "male_values_rep = df_rep[0:4]\n",
    "male_values_rep"
   ]
  },
  {
   "cell_type": "code",
   "execution_count": 43,
   "metadata": {},
   "outputs": [
    {
     "data": {
      "text/plain": [
       "female_14A          0\n",
       "female_14B    79.1035\n",
       "female_14C    182.233\n",
       "female_14D    2.40947\n",
       "Name: FBtr0331261, dtype: object"
      ]
     },
     "execution_count": 43,
     "metadata": {},
     "output_type": "execute_result"
    }
   ],
   "source": [
    "female_values_rep = df_rep[4:8]\n",
    "female_values_rep "
   ]
  },
  {
   "cell_type": "code",
   "execution_count": 44,
   "metadata": {},
   "outputs": [],
   "source": [
    "xuse_rep = [\"14A\",\"14B\",\"14C\",\"14D\"]"
   ]
  },
  {
   "cell_type": "code",
   "execution_count": 47,
   "metadata": {},
   "outputs": [
    {
     "data": {
      "image/png": "[encoded data removed]",
      "text/plain": [
       "<Figure size 432x288 with 1 Axes>"
      ]
     },
     "metadata": {
      "needs_background": "light"
     },
     "output_type": "display_data"
    }
   ],
   "source": [
    "x3 = xuse_rep\n",
    "y3 = male_values_rep\n",
    "fig, ax = plt.subplots()\n",
    "ax.plot(x3,y3, '*')\n",
    "plt.show()"
   ]
  },
  {
   "cell_type": "code",
   "execution_count": 48,
   "metadata": {},
   "outputs": [
    {
     "data": {
      "image/png": "[encoded data removed]",
      "text/plain": [
       "<Figure size 432x288 with 1 Axes>"
      ]
     },
     "metadata": {
      "needs_background": "light"
     },
     "output_type": "display_data"
    }
   ],
   "source": [
    "x4 = xuse_rep\n",
    "y4 = female_values_rep\n",
    "fig, ax = plt.subplots()\n",
    "ax.plot(x4,y4, '*')\n",
    "plt.show()"
   ]
  },
  {
   "cell_type": "code",
   "execution_count": 53,
   "metadata": {},
   "outputs": [
    {
     "data": {
      "image/png": "[encoded data removed]",
      "text/plain": [
       "<Figure size 432x288 with 1 Axes>"
      ]
     },
     "metadata": {
      "needs_background": "light"
     },
     "output_type": "display_data"
    }
   ],
   "source": [
    "fig, ax = plt.subplots()\n",
    "ax.plot( x, y, label = 'male' )\n",
    "ax.plot( x2, y2, label = 'female')\n",
    "ax.plot( x3, y3, '*', label = 'male replicates')\n",
    "ax.plot( x4, y4, '*', label = 'female replicates')\n",
    "ax.set_title(\"Time course of FBtr0331261 with replicates\")\n",
    "ax.set_xlabel(\"Time points\")\n",
    "ax.set_ylabel(\"fpkm values\")\n",
    "ax.legend()\n",
    "plt.show()"
   ]
  },
  {
   "cell_type": "code",
   "execution_count": null,
   "metadata": {},
   "outputs": [],
   "source": []
  },
  {
   "cell_type": "code",
   "execution_count": null,
   "metadata": {},
   "outputs": [],
   "source": []
  },
  {
   "cell_type": "code",
   "execution_count": null,
   "metadata": {},
   "outputs": [],
   "source": []
  },
  {
   "cell_type": "code",
   "execution_count": null,
   "metadata": {},
   "outputs": [],
   "source": []
  },
  {
   "cell_type": "code",
   "execution_count": null,
   "metadata": {},
   "outputs": [],
   "source": []
  },
  {
   "cell_type": "code",
   "execution_count": null,
   "metadata": {},
   "outputs": [],
   "source": []
  },
  {
   "cell_type": "code",
   "execution_count": null,
   "metadata": {},
   "outputs": [],
   "source": []
  },
  {
   "cell_type": "code",
   "execution_count": null,
   "metadata": {},
   "outputs": [],
   "source": []
  }
 ],
 "metadata": {
  "kernelspec": {
   "display_name": "Python 3",
   "language": "python",
   "name": "python3"
  }
 },
 "nbformat": 4,
 "nbformat_minor": 4
}
