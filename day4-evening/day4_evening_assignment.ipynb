{
 "cells": [
  {
   "cell_type": "markdown",
   "metadata": {},
   "source": [
    "# Load modules"
   ]
  },
  {
   "cell_type": "code",
   "execution_count": 1,
   "metadata": {},
   "outputs": [],
   "source": [
    "import numpy as np\n",
    "import pandas as pd\n",
    "import matplotlib.pyplot as plt\n",
    "\n",
    "from scipy import stats\n",
    "import statsmodels.formula.api as smf\n",
    "import statsmodels.api as sm"
   ]
  },
  {
   "cell_type": "markdown",
   "metadata": {},
   "source": [
    "# 2. Load data"
   ]
  },
  {
   "cell_type": "code",
   "execution_count": 2,
   "metadata": {},
   "outputs": [],
   "source": [
    "numparental = pd.read_csv(\"/users/cmdb/qbb2021-answers/day4-evening/aau1043_dnm.tsv\", sep = \",\")\n",
    "age = pd.read_csv(\"/users/cmdb/qbb2021-answers/day4-evening/aau1043_parental_age.tsv\", sep = \",\")"
   ]
  },
  {
   "cell_type": "code",
   "execution_count": 3,
   "metadata": {},
   "outputs": [
    {
     "data": {
      "text/html": [
       "<div>\n",
       "<style scoped>\n",
       "    .dataframe tbody tr th:only-of-type {\n",
       "        vertical-align: middle;\n",
       "    }\n",
       "\n",
       "    .dataframe tbody tr th {\n",
       "        vertical-align: top;\n",
       "    }\n",
       "\n",
       "    .dataframe thead th {\n",
       "        text-align: right;\n",
       "    }\n",
       "</style>\n",
       "<table border=\"1\" class=\"dataframe\">\n",
       "  <thead>\n",
       "    <tr style=\"text-align: right;\">\n",
       "      <th></th>\n",
       "      <th>Chr</th>\n",
       "      <th>Pos</th>\n",
       "      <th>Ref</th>\n",
       "      <th>Alt</th>\n",
       "      <th>Proband_id</th>\n",
       "      <th>Phase_combined</th>\n",
       "      <th>Crossover</th>\n",
       "      <th>Sanger</th>\n",
       "    </tr>\n",
       "  </thead>\n",
       "  <tbody>\n",
       "    <tr>\n",
       "      <th>0</th>\n",
       "      <td>chr1</td>\n",
       "      <td>241097646</td>\n",
       "      <td>C</td>\n",
       "      <td>T</td>\n",
       "      <td>99379</td>\n",
       "      <td>father</td>\n",
       "      <td>paternal_crossover</td>\n",
       "      <td>confirmed</td>\n",
       "    </tr>\n",
       "    <tr>\n",
       "      <th>1</th>\n",
       "      <td>chr10</td>\n",
       "      <td>29202943</td>\n",
       "      <td>A</td>\n",
       "      <td>G</td>\n",
       "      <td>8147</td>\n",
       "      <td>father</td>\n",
       "      <td>maternal_crossover</td>\n",
       "      <td>PCR failed</td>\n",
       "    </tr>\n",
       "    <tr>\n",
       "      <th>2</th>\n",
       "      <td>chr11</td>\n",
       "      <td>129441657</td>\n",
       "      <td>C</td>\n",
       "      <td>T</td>\n",
       "      <td>5410</td>\n",
       "      <td>mother</td>\n",
       "      <td>maternal_crossover</td>\n",
       "      <td>confirmed</td>\n",
       "    </tr>\n",
       "    <tr>\n",
       "      <th>3</th>\n",
       "      <td>chr13</td>\n",
       "      <td>96867147</td>\n",
       "      <td>A</td>\n",
       "      <td>G</td>\n",
       "      <td>46025</td>\n",
       "      <td>father</td>\n",
       "      <td>paternal_crossover</td>\n",
       "      <td>confirmed</td>\n",
       "    </tr>\n",
       "    <tr>\n",
       "      <th>4</th>\n",
       "      <td>chr17</td>\n",
       "      <td>50609998</td>\n",
       "      <td>C</td>\n",
       "      <td>T</td>\n",
       "      <td>144769</td>\n",
       "      <td>mother</td>\n",
       "      <td>maternal_crossover</td>\n",
       "      <td>confirmed</td>\n",
       "    </tr>\n",
       "    <tr>\n",
       "      <th>...</th>\n",
       "      <td>...</td>\n",
       "      <td>...</td>\n",
       "      <td>...</td>\n",
       "      <td>...</td>\n",
       "      <td>...</td>\n",
       "      <td>...</td>\n",
       "      <td>...</td>\n",
       "      <td>...</td>\n",
       "    </tr>\n",
       "    <tr>\n",
       "      <th>26426</th>\n",
       "      <td>chr9</td>\n",
       "      <td>137374330</td>\n",
       "      <td>C</td>\n",
       "      <td>T</td>\n",
       "      <td>54383</td>\n",
       "      <td>father</td>\n",
       "      <td>NaN</td>\n",
       "      <td>NaN</td>\n",
       "    </tr>\n",
       "    <tr>\n",
       "      <th>26427</th>\n",
       "      <td>chr9</td>\n",
       "      <td>137396508</td>\n",
       "      <td>C</td>\n",
       "      <td>T</td>\n",
       "      <td>39729</td>\n",
       "      <td>father</td>\n",
       "      <td>NaN</td>\n",
       "      <td>NaN</td>\n",
       "    </tr>\n",
       "    <tr>\n",
       "      <th>26428</th>\n",
       "      <td>chr9</td>\n",
       "      <td>137633973</td>\n",
       "      <td>C</td>\n",
       "      <td>A</td>\n",
       "      <td>17904</td>\n",
       "      <td>mother</td>\n",
       "      <td>NaN</td>\n",
       "      <td>NaN</td>\n",
       "    </tr>\n",
       "    <tr>\n",
       "      <th>26429</th>\n",
       "      <td>chr9</td>\n",
       "      <td>137889777</td>\n",
       "      <td>G</td>\n",
       "      <td>A</td>\n",
       "      <td>80108</td>\n",
       "      <td>father</td>\n",
       "      <td>NaN</td>\n",
       "      <td>NaN</td>\n",
       "    </tr>\n",
       "    <tr>\n",
       "      <th>26430</th>\n",
       "      <td>chr9</td>\n",
       "      <td>138177157</td>\n",
       "      <td>G</td>\n",
       "      <td>A</td>\n",
       "      <td>110977</td>\n",
       "      <td>father</td>\n",
       "      <td>NaN</td>\n",
       "      <td>NaN</td>\n",
       "    </tr>\n",
       "  </tbody>\n",
       "</table>\n",
       "<p>26431 rows × 8 columns</p>\n",
       "</div>"
      ],
      "text/plain": [
       "         Chr        Pos Ref Alt  Proband_id Phase_combined  \\\n",
       "0       chr1  241097646   C   T       99379         father   \n",
       "1      chr10   29202943   A   G        8147         father   \n",
       "2      chr11  129441657   C   T        5410         mother   \n",
       "3      chr13   96867147   A   G       46025         father   \n",
       "4      chr17   50609998   C   T      144769         mother   \n",
       "...      ...        ...  ..  ..         ...            ...   \n",
       "26426   chr9  137374330   C   T       54383         father   \n",
       "26427   chr9  137396508   C   T       39729         father   \n",
       "26428   chr9  137633973   C   A       17904         mother   \n",
       "26429   chr9  137889777   G   A       80108         father   \n",
       "26430   chr9  138177157   G   A      110977         father   \n",
       "\n",
       "                Crossover      Sanger  \n",
       "0      paternal_crossover   confirmed  \n",
       "1      maternal_crossover  PCR failed  \n",
       "2      maternal_crossover   confirmed  \n",
       "3      paternal_crossover   confirmed  \n",
       "4      maternal_crossover   confirmed  \n",
       "...                   ...         ...  \n",
       "26426                 NaN         NaN  \n",
       "26427                 NaN         NaN  \n",
       "26428                 NaN         NaN  \n",
       "26429                 NaN         NaN  \n",
       "26430                 NaN         NaN  \n",
       "\n",
       "[26431 rows x 8 columns]"
      ]
     },
     "execution_count": 3,
     "metadata": {},
     "output_type": "execute_result"
    }
   ],
   "source": [
    "numparental"
   ]
  },
  {
   "cell_type": "code",
   "execution_count": 4,
   "metadata": {},
   "outputs": [
    {
     "data": {
      "text/html": [
       "<div>\n",
       "<style scoped>\n",
       "    .dataframe tbody tr th:only-of-type {\n",
       "        vertical-align: middle;\n",
       "    }\n",
       "\n",
       "    .dataframe tbody tr th {\n",
       "        vertical-align: top;\n",
       "    }\n",
       "\n",
       "    .dataframe thead th {\n",
       "        text-align: right;\n",
       "    }\n",
       "</style>\n",
       "<table border=\"1\" class=\"dataframe\">\n",
       "  <thead>\n",
       "    <tr style=\"text-align: right;\">\n",
       "      <th></th>\n",
       "      <th>Proband_id</th>\n",
       "      <th>Father_age</th>\n",
       "      <th>Mother_age</th>\n",
       "    </tr>\n",
       "  </thead>\n",
       "  <tbody>\n",
       "    <tr>\n",
       "      <th>0</th>\n",
       "      <td>675</td>\n",
       "      <td>31</td>\n",
       "      <td>36</td>\n",
       "    </tr>\n",
       "    <tr>\n",
       "      <th>1</th>\n",
       "      <td>1097</td>\n",
       "      <td>19</td>\n",
       "      <td>19</td>\n",
       "    </tr>\n",
       "    <tr>\n",
       "      <th>2</th>\n",
       "      <td>1230</td>\n",
       "      <td>30</td>\n",
       "      <td>28</td>\n",
       "    </tr>\n",
       "    <tr>\n",
       "      <th>3</th>\n",
       "      <td>1481</td>\n",
       "      <td>32</td>\n",
       "      <td>20</td>\n",
       "    </tr>\n",
       "    <tr>\n",
       "      <th>4</th>\n",
       "      <td>1806</td>\n",
       "      <td>38</td>\n",
       "      <td>34</td>\n",
       "    </tr>\n",
       "    <tr>\n",
       "      <th>...</th>\n",
       "      <td>...</td>\n",
       "      <td>...</td>\n",
       "      <td>...</td>\n",
       "    </tr>\n",
       "    <tr>\n",
       "      <th>391</th>\n",
       "      <td>153657</td>\n",
       "      <td>27</td>\n",
       "      <td>23</td>\n",
       "    </tr>\n",
       "    <tr>\n",
       "      <th>392</th>\n",
       "      <td>154565</td>\n",
       "      <td>36</td>\n",
       "      <td>30</td>\n",
       "    </tr>\n",
       "    <tr>\n",
       "      <th>393</th>\n",
       "      <td>154621</td>\n",
       "      <td>19</td>\n",
       "      <td>18</td>\n",
       "    </tr>\n",
       "    <tr>\n",
       "      <th>394</th>\n",
       "      <td>154810</td>\n",
       "      <td>32</td>\n",
       "      <td>28</td>\n",
       "    </tr>\n",
       "    <tr>\n",
       "      <th>395</th>\n",
       "      <td>154936</td>\n",
       "      <td>30</td>\n",
       "      <td>34</td>\n",
       "    </tr>\n",
       "  </tbody>\n",
       "</table>\n",
       "<p>396 rows × 3 columns</p>\n",
       "</div>"
      ],
      "text/plain": [
       "     Proband_id  Father_age  Mother_age\n",
       "0           675          31          36\n",
       "1          1097          19          19\n",
       "2          1230          30          28\n",
       "3          1481          32          20\n",
       "4          1806          38          34\n",
       "..          ...         ...         ...\n",
       "391      153657          27          23\n",
       "392      154565          36          30\n",
       "393      154621          19          18\n",
       "394      154810          32          28\n",
       "395      154936          30          34\n",
       "\n",
       "[396 rows x 3 columns]"
      ]
     },
     "execution_count": 4,
     "metadata": {},
     "output_type": "execute_result"
    }
   ],
   "source": [
    "age"
   ]
  },
  {
   "cell_type": "markdown",
   "metadata": {},
   "source": [
    "# 3. Count the number of de novo mutations per proband"
   ]
  },
  {
   "cell_type": "markdown",
   "metadata": {},
   "source": [
    "# Tot_dnm"
   ]
  },
  {
   "cell_type": "code",
   "execution_count": 5,
   "metadata": {},
   "outputs": [
    {
     "data": {
      "text/plain": [
       "91410     122\n",
       "114094    121\n",
       "111288    115\n",
       "8147      114\n",
       "88246     113\n",
       "         ... \n",
       "121087     37\n",
       "62630      34\n",
       "76504      34\n",
       "37789      34\n",
       "13990      33\n",
       "Name: Proband_id, Length: 396, dtype: int64"
      ]
     },
     "execution_count": 5,
     "metadata": {},
     "output_type": "execute_result"
    }
   ],
   "source": [
    "proband_id = numparental.loc[:, \"Proband_id\"]\n",
    "proband_id.value_counts()"
   ]
  },
  {
   "cell_type": "code",
   "execution_count": 6,
   "metadata": {},
   "outputs": [],
   "source": [
    "df_total_proband_id = proband_id.value_counts()"
   ]
  },
  {
   "cell_type": "markdown",
   "metadata": {},
   "source": [
    "# pat_dnm"
   ]
  },
  {
   "cell_type": "code",
   "execution_count": 7,
   "metadata": {},
   "outputs": [
    {
     "data": {
      "text/plain": [
       "91410     111\n",
       "114094     98\n",
       "111288     93\n",
       "99984      91\n",
       "64166      88\n",
       "         ... \n",
       "76504      27\n",
       "1097       26\n",
       "13990      25\n",
       "36430      25\n",
       "37789      17\n",
       "Name: Proband_id, Length: 396, dtype: int64"
      ]
     },
     "execution_count": 7,
     "metadata": {},
     "output_type": "execute_result"
    }
   ],
   "source": [
    "roi = numparental.loc[:, \"Phase_combined\"] == 'father'\n",
    "df_father = numparental.loc[roi, :]\n",
    "probandf = df_father.loc[:, \"Proband_id\"]\n",
    "df_pat_dnm = probandf.value_counts()\n",
    "df_pat_dnm"
   ]
  },
  {
   "cell_type": "markdown",
   "metadata": {},
   "source": [
    "# mat_dnm"
   ]
  },
  {
   "cell_type": "code",
   "execution_count": 8,
   "metadata": {},
   "outputs": [
    {
     "data": {
      "text/plain": [
       "112917    32\n",
       "13191     31\n",
       "101332    30\n",
       "142988    29\n",
       "14991     28\n",
       "          ..\n",
       "93086      4\n",
       "130614     3\n",
       "37789      3\n",
       "113829     3\n",
       "121087     1\n",
       "Name: Proband_id, Length: 396, dtype: int64"
      ]
     },
     "execution_count": 8,
     "metadata": {},
     "output_type": "execute_result"
    }
   ],
   "source": [
    "roi = numparental.loc[:, \"Phase_combined\"] == 'mother'\n",
    "df_mother = numparental.loc[roi, :]\n",
    "probandm = df_mother.loc[:, \"Proband_id\"]\n",
    "df_mat_dnm = probandm.value_counts()\n",
    "df_mat_dnm"
   ]
  },
  {
   "cell_type": "markdown",
   "metadata": {},
   "source": [
    "# New pandas dataframe with columns: proband_id, pat_dnm, mat_dnm, tot_dnm"
   ]
  },
  {
   "cell_type": "code",
   "execution_count": 9,
   "metadata": {},
   "outputs": [
    {
     "data": {
      "text/html": [
       "<div>\n",
       "<style scoped>\n",
       "    .dataframe tbody tr th:only-of-type {\n",
       "        vertical-align: middle;\n",
       "    }\n",
       "\n",
       "    .dataframe tbody tr th {\n",
       "        vertical-align: top;\n",
       "    }\n",
       "\n",
       "    .dataframe thead th {\n",
       "        text-align: right;\n",
       "    }\n",
       "</style>\n",
       "<table border=\"1\" class=\"dataframe\">\n",
       "  <thead>\n",
       "    <tr style=\"text-align: right;\">\n",
       "      <th></th>\n",
       "      <th>total_dnm</th>\n",
       "      <th>pat_dnm</th>\n",
       "      <th>mat_dnm</th>\n",
       "      <th>Proband_id</th>\n",
       "    </tr>\n",
       "  </thead>\n",
       "  <tbody>\n",
       "    <tr>\n",
       "      <th>675</th>\n",
       "      <td>70</td>\n",
       "      <td>51</td>\n",
       "      <td>19</td>\n",
       "      <td>675</td>\n",
       "    </tr>\n",
       "    <tr>\n",
       "      <th>1097</th>\n",
       "      <td>39</td>\n",
       "      <td>26</td>\n",
       "      <td>12</td>\n",
       "      <td>1097</td>\n",
       "    </tr>\n",
       "    <tr>\n",
       "      <th>1230</th>\n",
       "      <td>57</td>\n",
       "      <td>42</td>\n",
       "      <td>12</td>\n",
       "      <td>1230</td>\n",
       "    </tr>\n",
       "    <tr>\n",
       "      <th>1481</th>\n",
       "      <td>68</td>\n",
       "      <td>53</td>\n",
       "      <td>14</td>\n",
       "      <td>1481</td>\n",
       "    </tr>\n",
       "    <tr>\n",
       "      <th>1806</th>\n",
       "      <td>78</td>\n",
       "      <td>61</td>\n",
       "      <td>11</td>\n",
       "      <td>1806</td>\n",
       "    </tr>\n",
       "    <tr>\n",
       "      <th>...</th>\n",
       "      <td>...</td>\n",
       "      <td>...</td>\n",
       "      <td>...</td>\n",
       "      <td>...</td>\n",
       "    </tr>\n",
       "    <tr>\n",
       "      <th>153657</th>\n",
       "      <td>49</td>\n",
       "      <td>41</td>\n",
       "      <td>8</td>\n",
       "      <td>153657</td>\n",
       "    </tr>\n",
       "    <tr>\n",
       "      <th>154565</th>\n",
       "      <td>75</td>\n",
       "      <td>61</td>\n",
       "      <td>14</td>\n",
       "      <td>154565</td>\n",
       "    </tr>\n",
       "    <tr>\n",
       "      <th>154621</th>\n",
       "      <td>50</td>\n",
       "      <td>39</td>\n",
       "      <td>11</td>\n",
       "      <td>154621</td>\n",
       "    </tr>\n",
       "    <tr>\n",
       "      <th>154810</th>\n",
       "      <td>69</td>\n",
       "      <td>55</td>\n",
       "      <td>14</td>\n",
       "      <td>154810</td>\n",
       "    </tr>\n",
       "    <tr>\n",
       "      <th>154936</th>\n",
       "      <td>53</td>\n",
       "      <td>36</td>\n",
       "      <td>16</td>\n",
       "      <td>154936</td>\n",
       "    </tr>\n",
       "  </tbody>\n",
       "</table>\n",
       "<p>396 rows × 4 columns</p>\n",
       "</div>"
      ],
      "text/plain": [
       "        total_dnm  pat_dnm  mat_dnm  Proband_id\n",
       "675            70       51       19         675\n",
       "1097           39       26       12        1097\n",
       "1230           57       42       12        1230\n",
       "1481           68       53       14        1481\n",
       "1806           78       61       11        1806\n",
       "...           ...      ...      ...         ...\n",
       "153657         49       41        8      153657\n",
       "154565         75       61       14      154565\n",
       "154621         50       39       11      154621\n",
       "154810         69       55       14      154810\n",
       "154936         53       36       16      154936\n",
       "\n",
       "[396 rows x 4 columns]"
      ]
     },
     "execution_count": 9,
     "metadata": {},
     "output_type": "execute_result"
    }
   ],
   "source": [
    "new_df = {\"total_dnm\": df_total_proband_id, \"pat_dnm\": df_pat_dnm, \"mat_dnm\": df_mat_dnm}\n",
    "pd.DataFrame(new_df)\n",
    "Denovo_counts = pd.DataFrame(new_df)\n",
    "Denovo_counts['Proband_id'] = Denovo_counts.index\n",
    "Denovo_counts"
   ]
  },
  {
   "cell_type": "markdown",
   "metadata": {},
   "source": [
    "# 4. Use pandas merge function to combine the above data frame with ages data frame"
   ]
  },
  {
   "cell_type": "code",
   "execution_count": 10,
   "metadata": {},
   "outputs": [
    {
     "data": {
      "text/html": [
       "<div>\n",
       "<style scoped>\n",
       "    .dataframe tbody tr th:only-of-type {\n",
       "        vertical-align: middle;\n",
       "    }\n",
       "\n",
       "    .dataframe tbody tr th {\n",
       "        vertical-align: top;\n",
       "    }\n",
       "\n",
       "    .dataframe thead th {\n",
       "        text-align: right;\n",
       "    }\n",
       "</style>\n",
       "<table border=\"1\" class=\"dataframe\">\n",
       "  <thead>\n",
       "    <tr style=\"text-align: right;\">\n",
       "      <th></th>\n",
       "      <th>Proband_id</th>\n",
       "      <th>Father_age</th>\n",
       "      <th>Mother_age</th>\n",
       "      <th>total_dnm</th>\n",
       "      <th>pat_dnm</th>\n",
       "      <th>mat_dnm</th>\n",
       "    </tr>\n",
       "  </thead>\n",
       "  <tbody>\n",
       "    <tr>\n",
       "      <th>0</th>\n",
       "      <td>675</td>\n",
       "      <td>31</td>\n",
       "      <td>36</td>\n",
       "      <td>70</td>\n",
       "      <td>51</td>\n",
       "      <td>19</td>\n",
       "    </tr>\n",
       "    <tr>\n",
       "      <th>1</th>\n",
       "      <td>1097</td>\n",
       "      <td>19</td>\n",
       "      <td>19</td>\n",
       "      <td>39</td>\n",
       "      <td>26</td>\n",
       "      <td>12</td>\n",
       "    </tr>\n",
       "    <tr>\n",
       "      <th>2</th>\n",
       "      <td>1230</td>\n",
       "      <td>30</td>\n",
       "      <td>28</td>\n",
       "      <td>57</td>\n",
       "      <td>42</td>\n",
       "      <td>12</td>\n",
       "    </tr>\n",
       "    <tr>\n",
       "      <th>3</th>\n",
       "      <td>1481</td>\n",
       "      <td>32</td>\n",
       "      <td>20</td>\n",
       "      <td>68</td>\n",
       "      <td>53</td>\n",
       "      <td>14</td>\n",
       "    </tr>\n",
       "    <tr>\n",
       "      <th>4</th>\n",
       "      <td>1806</td>\n",
       "      <td>38</td>\n",
       "      <td>34</td>\n",
       "      <td>78</td>\n",
       "      <td>61</td>\n",
       "      <td>11</td>\n",
       "    </tr>\n",
       "    <tr>\n",
       "      <th>...</th>\n",
       "      <td>...</td>\n",
       "      <td>...</td>\n",
       "      <td>...</td>\n",
       "      <td>...</td>\n",
       "      <td>...</td>\n",
       "      <td>...</td>\n",
       "    </tr>\n",
       "    <tr>\n",
       "      <th>391</th>\n",
       "      <td>153657</td>\n",
       "      <td>27</td>\n",
       "      <td>23</td>\n",
       "      <td>49</td>\n",
       "      <td>41</td>\n",
       "      <td>8</td>\n",
       "    </tr>\n",
       "    <tr>\n",
       "      <th>392</th>\n",
       "      <td>154565</td>\n",
       "      <td>36</td>\n",
       "      <td>30</td>\n",
       "      <td>75</td>\n",
       "      <td>61</td>\n",
       "      <td>14</td>\n",
       "    </tr>\n",
       "    <tr>\n",
       "      <th>393</th>\n",
       "      <td>154621</td>\n",
       "      <td>19</td>\n",
       "      <td>18</td>\n",
       "      <td>50</td>\n",
       "      <td>39</td>\n",
       "      <td>11</td>\n",
       "    </tr>\n",
       "    <tr>\n",
       "      <th>394</th>\n",
       "      <td>154810</td>\n",
       "      <td>32</td>\n",
       "      <td>28</td>\n",
       "      <td>69</td>\n",
       "      <td>55</td>\n",
       "      <td>14</td>\n",
       "    </tr>\n",
       "    <tr>\n",
       "      <th>395</th>\n",
       "      <td>154936</td>\n",
       "      <td>30</td>\n",
       "      <td>34</td>\n",
       "      <td>53</td>\n",
       "      <td>36</td>\n",
       "      <td>16</td>\n",
       "    </tr>\n",
       "  </tbody>\n",
       "</table>\n",
       "<p>396 rows × 6 columns</p>\n",
       "</div>"
      ],
      "text/plain": [
       "     Proband_id  Father_age  Mother_age  total_dnm  pat_dnm  mat_dnm\n",
       "0           675          31          36         70       51       19\n",
       "1          1097          19          19         39       26       12\n",
       "2          1230          30          28         57       42       12\n",
       "3          1481          32          20         68       53       14\n",
       "4          1806          38          34         78       61       11\n",
       "..          ...         ...         ...        ...      ...      ...\n",
       "391      153657          27          23         49       41        8\n",
       "392      154565          36          30         75       61       14\n",
       "393      154621          19          18         50       39       11\n",
       "394      154810          32          28         69       55       14\n",
       "395      154936          30          34         53       36       16\n",
       "\n",
       "[396 rows x 6 columns]"
      ]
     },
     "execution_count": 10,
     "metadata": {},
     "output_type": "execute_result"
    }
   ],
   "source": [
    "merge = pd.merge(age, Denovo_counts)\n",
    "merge"
   ]
  },
  {
   "cell_type": "markdown",
   "metadata": {},
   "source": [
    "# 5. Plot maternal de novo mutations vs. maternal age"
   ]
  },
  {
   "cell_type": "code",
   "execution_count": 11,
   "metadata": {},
   "outputs": [
    {
     "data": {
      "text/plain": [
       "0      19\n",
       "1      12\n",
       "2      12\n",
       "3      14\n",
       "4      11\n",
       "       ..\n",
       "391     8\n",
       "392    14\n",
       "393    11\n",
       "394    14\n",
       "395    16\n",
       "Name: mat_dnm, Length: 396, dtype: int64"
      ]
     },
     "execution_count": 11,
     "metadata": {},
     "output_type": "execute_result"
    }
   ],
   "source": [
    "maternal_mut = merge.loc[:,\"mat_dnm\"]\n",
    "maternal_mut"
   ]
  },
  {
   "cell_type": "code",
   "execution_count": 12,
   "metadata": {},
   "outputs": [
    {
     "data": {
      "text/plain": [
       "0      36\n",
       "1      19\n",
       "2      28\n",
       "3      20\n",
       "4      34\n",
       "       ..\n",
       "391    23\n",
       "392    30\n",
       "393    18\n",
       "394    28\n",
       "395    34\n",
       "Name: Mother_age, Length: 396, dtype: int64"
      ]
     },
     "execution_count": 12,
     "metadata": {},
     "output_type": "execute_result"
    }
   ],
   "source": [
    "maternal_age = merge.loc[:,\"Mother_age\"]\n",
    "maternal_age"
   ]
  },
  {
   "cell_type": "code",
   "execution_count": 13,
   "metadata": {},
   "outputs": [
    {
     "data": {
      "image/png": "[encoded data removed]",
      "text/plain": [
       "<Figure size 432x288 with 1 Axes>"
      ]
     },
     "metadata": {
      "needs_background": "light"
     },
     "output_type": "display_data"
    }
   ],
   "source": [
    "x = maternal_mut\n",
    "y = maternal_age\n",
    "fig, ax = plt.subplots()\n",
    "ax.scatter(x, y)\n",
    "ax.set_title(\"Maternal De Novo Mutations vs. Maternal Age\")\n",
    "ax.set_xlabel(\"Maternal Age\")\n",
    "ax.set_ylabel(\"Maternal Mutatons\")\n",
    "plt.show()"
   ]
  },
  {
   "cell_type": "markdown",
   "metadata": {},
   "source": [
    "# 5. Plot paternal de novo mutations vs. paternal age"
   ]
  },
  {
   "cell_type": "code",
   "execution_count": 14,
   "metadata": {},
   "outputs": [
    {
     "data": {
      "text/plain": [
       "0      19\n",
       "1      12\n",
       "2      12\n",
       "3      14\n",
       "4      11\n",
       "       ..\n",
       "391     8\n",
       "392    14\n",
       "393    11\n",
       "394    14\n",
       "395    16\n",
       "Name: mat_dnm, Length: 396, dtype: int64"
      ]
     },
     "execution_count": 14,
     "metadata": {},
     "output_type": "execute_result"
    }
   ],
   "source": [
    "paternal_mut = merge.loc[:,\"mat_dnm\"]\n",
    "paternal_mut"
   ]
  },
  {
   "cell_type": "code",
   "execution_count": 15,
   "metadata": {},
   "outputs": [
    {
     "data": {
      "text/plain": [
       "0      36\n",
       "1      19\n",
       "2      28\n",
       "3      20\n",
       "4      34\n",
       "       ..\n",
       "391    23\n",
       "392    30\n",
       "393    18\n",
       "394    28\n",
       "395    34\n",
       "Name: Mother_age, Length: 396, dtype: int64"
      ]
     },
     "execution_count": 15,
     "metadata": {},
     "output_type": "execute_result"
    }
   ],
   "source": [
    "paternal_age = merge.loc[:,\"Mother_age\"]\n",
    "paternal_age"
   ]
  },
  {
   "cell_type": "code",
   "execution_count": 16,
   "metadata": {},
   "outputs": [
    {
     "data": {
      "image/png": "[encoded data removed]",
      "text/plain": [
       "<Figure size 432x288 with 1 Axes>"
      ]
     },
     "metadata": {
      "needs_background": "light"
     },
     "output_type": "display_data"
    }
   ],
   "source": [
    "x2 = paternal_mut\n",
    "y2 = paternal_age\n",
    "fig, ax = plt.subplots()\n",
    "ax.scatter(x2, y2)\n",
    "ax.set_title(\"Paternal De Novo Mutations vs. Paternal Age\")\n",
    "ax.set_xlabel(\"Paternal Age\")\n",
    "ax.set_ylabel(\"Paternal Mutatons\")\n",
    "plt.show()"
   ]
  },
  {
   "cell_type": "markdown",
   "metadata": {},
   "source": [
    "# 6. Use OLS to test for an association between maternal age and maternal de novo mutations"
   ]
  },
  {
   "cell_type": "code",
   "execution_count": 17,
   "metadata": {},
   "outputs": [
    {
     "data": {
      "text/html": [
       "<table class=\"simpletable\">\n",
       "<caption>OLS Regression Results</caption>\n",
       "<tr>\n",
       "  <th>Dep. Variable:</th>         <td>mat_dnm</td>     <th>  R-squared:         </th> <td>   0.228</td>\n",
       "</tr>\n",
       "<tr>\n",
       "  <th>Model:</th>                   <td>OLS</td>       <th>  Adj. R-squared:    </th> <td>   0.226</td>\n",
       "</tr>\n",
       "<tr>\n",
       "  <th>Method:</th>             <td>Least Squares</td>  <th>  F-statistic:       </th> <td>   116.0</td>\n",
       "</tr>\n",
       "<tr>\n",
       "  <th>Date:</th>             <td>Mon, 13 Sep 2021</td> <th>  Prob (F-statistic):</th> <td>6.88e-24</td>\n",
       "</tr>\n",
       "<tr>\n",
       "  <th>Time:</th>                 <td>14:15:58</td>     <th>  Log-Likelihood:    </th> <td> -1158.1</td>\n",
       "</tr>\n",
       "<tr>\n",
       "  <th>No. Observations:</th>      <td>   396</td>      <th>  AIC:               </th> <td>   2320.</td>\n",
       "</tr>\n",
       "<tr>\n",
       "  <th>Df Residuals:</th>          <td>   394</td>      <th>  BIC:               </th> <td>   2328.</td>\n",
       "</tr>\n",
       "<tr>\n",
       "  <th>Df Model:</th>              <td>     1</td>      <th>                     </th>     <td> </td>   \n",
       "</tr>\n",
       "<tr>\n",
       "  <th>Covariance Type:</th>      <td>nonrobust</td>    <th>                     </th>     <td> </td>   \n",
       "</tr>\n",
       "</table>\n",
       "<table class=\"simpletable\">\n",
       "<tr>\n",
       "       <td></td>         <th>coef</th>     <th>std err</th>      <th>t</th>      <th>P>|t|</th>  <th>[0.025</th>    <th>0.975]</th>  \n",
       "</tr>\n",
       "<tr>\n",
       "  <th>Intercept</th>  <td>    2.5040</td> <td>    0.981</td> <td>    2.553</td> <td> 0.011</td> <td>    0.576</td> <td>    4.432</td>\n",
       "</tr>\n",
       "<tr>\n",
       "  <th>Mother_age</th> <td>    0.3776</td> <td>    0.035</td> <td>   10.772</td> <td> 0.000</td> <td>    0.309</td> <td>    0.446</td>\n",
       "</tr>\n",
       "</table>\n",
       "<table class=\"simpletable\">\n",
       "<tr>\n",
       "  <th>Omnibus:</th>       <td>51.143</td> <th>  Durbin-Watson:     </th> <td>   2.090</td>\n",
       "</tr>\n",
       "<tr>\n",
       "  <th>Prob(Omnibus):</th> <td> 0.000</td> <th>  Jarque-Bera (JB):  </th> <td>  75.501</td>\n",
       "</tr>\n",
       "<tr>\n",
       "  <th>Skew:</th>          <td> 0.845</td> <th>  Prob(JB):          </th> <td>4.03e-17</td>\n",
       "</tr>\n",
       "<tr>\n",
       "  <th>Kurtosis:</th>      <td> 4.310</td> <th>  Cond. No.          </th> <td>    121.</td>\n",
       "</tr>\n",
       "</table><br/><br/>Notes:<br/>[1] Standard Errors assume that the covariance matrix of the errors is correctly specified."
      ],
      "text/plain": [
       "<class 'statsmodels.iolib.summary.Summary'>\n",
       "\"\"\"\n",
       "                            OLS Regression Results                            \n",
       "==============================================================================\n",
       "Dep. Variable:                mat_dnm   R-squared:                       0.228\n",
       "Model:                            OLS   Adj. R-squared:                  0.226\n",
       "Method:                 Least Squares   F-statistic:                     116.0\n",
       "Date:                Mon, 13 Sep 2021   Prob (F-statistic):           6.88e-24\n",
       "Time:                        14:15:58   Log-Likelihood:                -1158.1\n",
       "No. Observations:                 396   AIC:                             2320.\n",
       "Df Residuals:                     394   BIC:                             2328.\n",
       "Df Model:                           1                                         \n",
       "Covariance Type:            nonrobust                                         \n",
       "==============================================================================\n",
       "                 coef    std err          t      P>|t|      [0.025      0.975]\n",
       "------------------------------------------------------------------------------\n",
       "Intercept      2.5040      0.981      2.553      0.011       0.576       4.432\n",
       "Mother_age     0.3776      0.035     10.772      0.000       0.309       0.446\n",
       "==============================================================================\n",
       "Omnibus:                       51.143   Durbin-Watson:                   2.090\n",
       "Prob(Omnibus):                  0.000   Jarque-Bera (JB):               75.501\n",
       "Skew:                           0.845   Prob(JB):                     4.03e-17\n",
       "Kurtosis:                       4.310   Cond. No.                         121.\n",
       "==============================================================================\n",
       "\n",
       "Notes:\n",
       "[1] Standard Errors assume that the covariance matrix of the errors is correctly specified.\n",
       "\"\"\""
      ]
     },
     "execution_count": 17,
     "metadata": {},
     "output_type": "execute_result"
    }
   ],
   "source": [
    "model = smf.ols(formula = \"mat_dnm ~ 1 + Mother_age\", data = merge)\n",
    "results = model.fit()\n",
    "results.summary()"
   ]
  },
  {
   "cell_type": "code",
   "execution_count": 18,
   "metadata": {},
   "outputs": [
    {
     "data": {
      "text/plain": [
       "Intercept     1.104177e-02\n",
       "Mother_age    6.878208e-24\n",
       "dtype: float64"
      ]
     },
     "execution_count": 18,
     "metadata": {},
     "output_type": "execute_result"
    }
   ],
   "source": [
    "results.pvalues"
   ]
  },
  {
   "cell_type": "markdown",
   "metadata": {},
   "source": [
    "The p-value is < 0 indicating it is highly significant meaning age is an important factor in the occurance of mutations. The slope is 0.377 demonstrating the size of the relationship."
   ]
  },
  {
   "cell_type": "markdown",
   "metadata": {},
   "source": [
    "# 7. Use OLS to test for an association between paternal age and paternal de novo mutations"
   ]
  },
  {
   "cell_type": "code",
   "execution_count": 19,
   "metadata": {},
   "outputs": [
    {
     "data": {
      "text/html": [
       "<table class=\"simpletable\">\n",
       "<caption>OLS Regression Results</caption>\n",
       "<tr>\n",
       "  <th>Dep. Variable:</th>         <td>pat_dnm</td>     <th>  R-squared:         </th> <td>   0.619</td>\n",
       "</tr>\n",
       "<tr>\n",
       "  <th>Model:</th>                   <td>OLS</td>       <th>  Adj. R-squared:    </th> <td>   0.618</td>\n",
       "</tr>\n",
       "<tr>\n",
       "  <th>Method:</th>             <td>Least Squares</td>  <th>  F-statistic:       </th> <td>   639.6</td>\n",
       "</tr>\n",
       "<tr>\n",
       "  <th>Date:</th>             <td>Mon, 13 Sep 2021</td> <th>  Prob (F-statistic):</th> <td>1.55e-84</td>\n",
       "</tr>\n",
       "<tr>\n",
       "  <th>Time:</th>                 <td>14:15:58</td>     <th>  Log-Likelihood:    </th> <td> -1406.6</td>\n",
       "</tr>\n",
       "<tr>\n",
       "  <th>No. Observations:</th>      <td>   396</td>      <th>  AIC:               </th> <td>   2817.</td>\n",
       "</tr>\n",
       "<tr>\n",
       "  <th>Df Residuals:</th>          <td>   394</td>      <th>  BIC:               </th> <td>   2825.</td>\n",
       "</tr>\n",
       "<tr>\n",
       "  <th>Df Model:</th>              <td>     1</td>      <th>                     </th>     <td> </td>   \n",
       "</tr>\n",
       "<tr>\n",
       "  <th>Covariance Type:</th>      <td>nonrobust</td>    <th>                     </th>     <td> </td>   \n",
       "</tr>\n",
       "</table>\n",
       "<table class=\"simpletable\">\n",
       "<tr>\n",
       "       <td></td>         <th>coef</th>     <th>std err</th>      <th>t</th>      <th>P>|t|</th>  <th>[0.025</th>    <th>0.975]</th>  \n",
       "</tr>\n",
       "<tr>\n",
       "  <th>Intercept</th>  <td>   10.3263</td> <td>    1.702</td> <td>    6.066</td> <td> 0.000</td> <td>    6.979</td> <td>   13.673</td>\n",
       "</tr>\n",
       "<tr>\n",
       "  <th>Father_age</th> <td>    1.3538</td> <td>    0.054</td> <td>   25.291</td> <td> 0.000</td> <td>    1.249</td> <td>    1.459</td>\n",
       "</tr>\n",
       "</table>\n",
       "<table class=\"simpletable\">\n",
       "<tr>\n",
       "  <th>Omnibus:</th>       <td> 7.687</td> <th>  Durbin-Watson:     </th> <td>   1.795</td>\n",
       "</tr>\n",
       "<tr>\n",
       "  <th>Prob(Omnibus):</th> <td> 0.021</td> <th>  Jarque-Bera (JB):  </th> <td>   8.185</td>\n",
       "</tr>\n",
       "<tr>\n",
       "  <th>Skew:</th>          <td> 0.256</td> <th>  Prob(JB):          </th> <td>  0.0167</td>\n",
       "</tr>\n",
       "<tr>\n",
       "  <th>Kurtosis:</th>      <td> 3.483</td> <th>  Cond. No.          </th> <td>    127.</td>\n",
       "</tr>\n",
       "</table><br/><br/>Notes:<br/>[1] Standard Errors assume that the covariance matrix of the errors is correctly specified."
      ],
      "text/plain": [
       "<class 'statsmodels.iolib.summary.Summary'>\n",
       "\"\"\"\n",
       "                            OLS Regression Results                            \n",
       "==============================================================================\n",
       "Dep. Variable:                pat_dnm   R-squared:                       0.619\n",
       "Model:                            OLS   Adj. R-squared:                  0.618\n",
       "Method:                 Least Squares   F-statistic:                     639.6\n",
       "Date:                Mon, 13 Sep 2021   Prob (F-statistic):           1.55e-84\n",
       "Time:                        14:15:58   Log-Likelihood:                -1406.6\n",
       "No. Observations:                 396   AIC:                             2817.\n",
       "Df Residuals:                     394   BIC:                             2825.\n",
       "Df Model:                           1                                         \n",
       "Covariance Type:            nonrobust                                         \n",
       "==============================================================================\n",
       "                 coef    std err          t      P>|t|      [0.025      0.975]\n",
       "------------------------------------------------------------------------------\n",
       "Intercept     10.3263      1.702      6.066      0.000       6.979      13.673\n",
       "Father_age     1.3538      0.054     25.291      0.000       1.249       1.459\n",
       "==============================================================================\n",
       "Omnibus:                        7.687   Durbin-Watson:                   1.795\n",
       "Prob(Omnibus):                  0.021   Jarque-Bera (JB):                8.185\n",
       "Skew:                           0.256   Prob(JB):                       0.0167\n",
       "Kurtosis:                       3.483   Cond. No.                         127.\n",
       "==============================================================================\n",
       "\n",
       "Notes:\n",
       "[1] Standard Errors assume that the covariance matrix of the errors is correctly specified.\n",
       "\"\"\""
      ]
     },
     "execution_count": 19,
     "metadata": {},
     "output_type": "execute_result"
    }
   ],
   "source": [
    "model_pat = smf.ols(formula = \"pat_dnm ~ 1 + Father_age\", data = merge)\n",
    "results_pat = model_pat.fit()\n",
    "results_pat.summary()"
   ]
  },
  {
   "cell_type": "code",
   "execution_count": 20,
   "metadata": {},
   "outputs": [
    {
     "data": {
      "text/plain": [
       "Intercept     1.104177e-02\n",
       "Mother_age    6.878208e-24\n",
       "dtype: float64"
      ]
     },
     "execution_count": 20,
     "metadata": {},
     "output_type": "execute_result"
    }
   ],
   "source": [
    "results.pvalues"
   ]
  },
  {
   "cell_type": "markdown",
   "metadata": {},
   "source": [
    "The p-value is < 0 indicating it is highly significant meaning age is an important factor in the occurance of mutations. The slope is 0.377 demonstrating the size of the relationship."
   ]
  },
  {
   "cell_type": "markdown",
   "metadata": {},
   "source": [
    "# 8. Plot a histogram of the number of maternal de novo mutations and paternal de novo mutations per proband on a single plot with semi-transparency"
   ]
  },
  {
   "cell_type": "code",
   "execution_count": 28,
   "metadata": {
    "scrolled": true
   },
   "outputs": [
    {
     "data": {
      "image/png": "[encoded data removed]",
      "text/plain": [
       "<Figure size 432x288 with 1 Axes>"
      ]
     },
     "metadata": {
      "needs_background": "light"
     },
     "output_type": "display_data"
    }
   ],
   "source": [
    "fig, ax = plt.subplots()\n",
    "ax.hist(merge.loc[:, \"mat_dnm\"], label = \"maternal\", bins =30, alpha = 0.5, width = 1.5)\n",
    "ax.hist(merge.loc[:, \"pat_dnm\"], label = \"paternal\", bins =30, alpha = 0.5, width = 1.5)\n",
    "ax.set_title(\"Histogram of maternal and paternal de novo mutations\")\n",
    "ax.set_xlabel(\"Number of Mutations\")\n",
    "ax.set_ylabel(\"Frequency\")\n",
    "ax.legend()\n",
    "plt.show()"
   ]
  },
  {
   "cell_type": "markdown",
   "metadata": {},
   "source": [
    "# 9. Test whether the number of maternally inherited de novo mutations per proband is significantly different than the number of paternally inherited de novo mutations per proband."
   ]
  },
  {
   "cell_type": "code",
   "execution_count": 22,
   "metadata": {},
   "outputs": [
    {
     "data": {
      "text/plain": [
       "Ttest_indResult(statistic=-53.403565287269245, pvalue=2.1986031793078793e-264)"
      ]
     },
     "execution_count": 22,
     "metadata": {},
     "output_type": "execute_result"
    }
   ],
   "source": [
    "stats.ttest_ind(merge.loc[:, \"mat_dnm\"],merge.loc[:, \"pat_dnm\"])"
   ]
  },
  {
   "cell_type": "markdown",
   "metadata": {},
   "source": [
    "# 10. Use Poisson to test for an association between maternal age and maternal de novo mutations \n"
   ]
  },
  {
   "cell_type": "code",
   "execution_count": 23,
   "metadata": {},
   "outputs": [
    {
     "name": "stdout",
     "output_type": "stream",
     "text": [
      "Optimization terminated successfully.\n",
      "         Current function value: 2.927974\n",
      "         Iterations 5\n"
     ]
    },
    {
     "data": {
      "text/html": [
       "<table class=\"simpletable\">\n",
       "<caption>Poisson Regression Results</caption>\n",
       "<tr>\n",
       "  <th>Dep. Variable:</th>        <td>mat_dnm</td>     <th>  No. Observations:  </th>  <td>   396</td>  \n",
       "</tr>\n",
       "<tr>\n",
       "  <th>Model:</th>                <td>Poisson</td>     <th>  Df Residuals:      </th>  <td>   394</td>  \n",
       "</tr>\n",
       "<tr>\n",
       "  <th>Method:</th>                 <td>MLE</td>       <th>  Df Model:          </th>  <td>     1</td>  \n",
       "</tr>\n",
       "<tr>\n",
       "  <th>Date:</th>            <td>Mon, 13 Sep 2021</td> <th>  Pseudo R-squ.:     </th>  <td>0.07164</td> \n",
       "</tr>\n",
       "<tr>\n",
       "  <th>Time:</th>                <td>14:15:58</td>     <th>  Log-Likelihood:    </th> <td> -1159.5</td> \n",
       "</tr>\n",
       "<tr>\n",
       "  <th>converged:</th>             <td>True</td>       <th>  LL-Null:           </th> <td> -1248.9</td> \n",
       "</tr>\n",
       "<tr>\n",
       "  <th>Covariance Type:</th>     <td>nonrobust</td>    <th>  LLR p-value:       </th> <td>8.241e-41</td>\n",
       "</tr>\n",
       "</table>\n",
       "<table class=\"simpletable\">\n",
       "<tr>\n",
       "       <td></td>         <th>coef</th>     <th>std err</th>      <th>z</th>      <th>P>|z|</th>  <th>[0.025</th>    <th>0.975]</th>  \n",
       "</tr>\n",
       "<tr>\n",
       "  <th>Intercept</th>  <td>    1.7671</td> <td>    0.060</td> <td>   29.235</td> <td> 0.000</td> <td>    1.649</td> <td>    1.886</td>\n",
       "</tr>\n",
       "<tr>\n",
       "  <th>Mother_age</th> <td>    0.0281</td> <td>    0.002</td> <td>   13.582</td> <td> 0.000</td> <td>    0.024</td> <td>    0.032</td>\n",
       "</tr>\n",
       "</table>"
      ],
      "text/plain": [
       "<class 'statsmodels.iolib.summary.Summary'>\n",
       "\"\"\"\n",
       "                          Poisson Regression Results                          \n",
       "==============================================================================\n",
       "Dep. Variable:                mat_dnm   No. Observations:                  396\n",
       "Model:                        Poisson   Df Residuals:                      394\n",
       "Method:                           MLE   Df Model:                            1\n",
       "Date:                Mon, 13 Sep 2021   Pseudo R-squ.:                 0.07164\n",
       "Time:                        14:15:58   Log-Likelihood:                -1159.5\n",
       "converged:                       True   LL-Null:                       -1248.9\n",
       "Covariance Type:            nonrobust   LLR p-value:                 8.241e-41\n",
       "==============================================================================\n",
       "                 coef    std err          z      P>|z|      [0.025      0.975]\n",
       "------------------------------------------------------------------------------\n",
       "Intercept      1.7671      0.060     29.235      0.000       1.649       1.886\n",
       "Mother_age     0.0281      0.002     13.582      0.000       0.024       0.032\n",
       "==============================================================================\n",
       "\"\"\""
      ]
     },
     "execution_count": 23,
     "metadata": {},
     "output_type": "execute_result"
    }
   ],
   "source": [
    "Poisson_mat = smf.poisson(formula = \"mat_dnm ~ 1 + Mother_age\", data = merge)\n",
    "results_matp = Poisson_mat.fit()\n",
    "results_matp.summary()"
   ]
  },
  {
   "cell_type": "markdown",
   "metadata": {},
   "source": [
    "# 10. Use Poisson to test for an association between paternal age and paternal de novo mutations \n"
   ]
  },
  {
   "cell_type": "code",
   "execution_count": 24,
   "metadata": {},
   "outputs": [
    {
     "name": "stdout",
     "output_type": "stream",
     "text": [
      "Optimization terminated successfully.\n",
      "         Current function value: 3.578620\n",
      "         Iterations 5\n"
     ]
    },
    {
     "data": {
      "text/html": [
       "<table class=\"simpletable\">\n",
       "<caption>Poisson Regression Results</caption>\n",
       "<tr>\n",
       "  <th>Dep. Variable:</th>        <td>pat_dnm</td>     <th>  No. Observations:  </th>   <td>   396</td>  \n",
       "</tr>\n",
       "<tr>\n",
       "  <th>Model:</th>                <td>Poisson</td>     <th>  Df Residuals:      </th>   <td>   394</td>  \n",
       "</tr>\n",
       "<tr>\n",
       "  <th>Method:</th>                 <td>MLE</td>       <th>  Df Model:          </th>   <td>     1</td>  \n",
       "</tr>\n",
       "<tr>\n",
       "  <th>Date:</th>            <td>Mon, 13 Sep 2021</td> <th>  Pseudo R-squ.:     </th>   <td>0.2277</td>  \n",
       "</tr>\n",
       "<tr>\n",
       "  <th>Time:</th>                <td>14:15:58</td>     <th>  Log-Likelihood:    </th>  <td> -1417.1</td> \n",
       "</tr>\n",
       "<tr>\n",
       "  <th>converged:</th>             <td>True</td>       <th>  LL-Null:           </th>  <td> -1834.9</td> \n",
       "</tr>\n",
       "<tr>\n",
       "  <th>Covariance Type:</th>     <td>nonrobust</td>    <th>  LLR p-value:       </th> <td>1.004e-183</td>\n",
       "</tr>\n",
       "</table>\n",
       "<table class=\"simpletable\">\n",
       "<tr>\n",
       "       <td></td>         <th>coef</th>     <th>std err</th>      <th>z</th>      <th>P>|z|</th>  <th>[0.025</th>    <th>0.975]</th>  \n",
       "</tr>\n",
       "<tr>\n",
       "  <th>Intercept</th>  <td>    3.1903</td> <td>    0.027</td> <td>  116.856</td> <td> 0.000</td> <td>    3.137</td> <td>    3.244</td>\n",
       "</tr>\n",
       "<tr>\n",
       "  <th>Father_age</th> <td>    0.0241</td> <td>    0.001</td> <td>   29.608</td> <td> 0.000</td> <td>    0.023</td> <td>    0.026</td>\n",
       "</tr>\n",
       "</table>"
      ],
      "text/plain": [
       "<class 'statsmodels.iolib.summary.Summary'>\n",
       "\"\"\"\n",
       "                          Poisson Regression Results                          \n",
       "==============================================================================\n",
       "Dep. Variable:                pat_dnm   No. Observations:                  396\n",
       "Model:                        Poisson   Df Residuals:                      394\n",
       "Method:                           MLE   Df Model:                            1\n",
       "Date:                Mon, 13 Sep 2021   Pseudo R-squ.:                  0.2277\n",
       "Time:                        14:15:58   Log-Likelihood:                -1417.1\n",
       "converged:                       True   LL-Null:                       -1834.9\n",
       "Covariance Type:            nonrobust   LLR p-value:                1.004e-183\n",
       "==============================================================================\n",
       "                 coef    std err          z      P>|z|      [0.025      0.975]\n",
       "------------------------------------------------------------------------------\n",
       "Intercept      3.1903      0.027    116.856      0.000       3.137       3.244\n",
       "Father_age     0.0241      0.001     29.608      0.000       0.023       0.026\n",
       "==============================================================================\n",
       "\"\"\""
      ]
     },
     "execution_count": 24,
     "metadata": {},
     "output_type": "execute_result"
    }
   ],
   "source": [
    "Poisson_pat = smf.poisson(formula = \"pat_dnm ~ 1 + Father_age\", data = merge)\n",
    "results_patp = Poisson_pat.fit()\n",
    "results_patp.summary()"
   ]
  },
  {
   "cell_type": "markdown",
   "metadata": {},
   "source": [
    "# Paternal prediciton : Father 50.5 yo"
   ]
  },
  {
   "cell_type": "code",
   "execution_count": 25,
   "metadata": {},
   "outputs": [
    {
     "data": {
      "text/plain": [
       "0    82.031316\n",
       "dtype: float64"
      ]
     },
     "execution_count": 25,
     "metadata": {},
     "output_type": "execute_result"
    }
   ],
   "source": [
    "new_observation=pd.DataFrame({\"Father_age\" : [50.5]})\n",
    "results_patp.predict(new_observation)"
   ]
  },
  {
   "cell_type": "code",
   "execution_count": null,
   "metadata": {},
   "outputs": [],
   "source": []
  },
  {
   "cell_type": "code",
   "execution_count": null,
   "metadata": {},
   "outputs": [],
   "source": []
  },
  {
   "cell_type": "code",
   "execution_count": null,
   "metadata": {},
   "outputs": [],
   "source": []
  },
  {
   "cell_type": "code",
   "execution_count": null,
   "metadata": {},
   "outputs": [],
   "source": []
  },
  {
   "cell_type": "code",
   "execution_count": null,
   "metadata": {},
   "outputs": [],
   "source": []
  },
  {
   "cell_type": "code",
   "execution_count": null,
   "metadata": {},
   "outputs": [],
   "source": []
  },
  {
   "cell_type": "code",
   "execution_count": null,
   "metadata": {},
   "outputs": [],
   "source": []
  }
 ],
 "metadata": {
  "kernelspec": {
   "display_name": "Python 3",
   "language": "python",
   "name": "python3"
  },
  "language_info": {
   "codemirror_mode": {
    "name": "ipython",
    "version": 3
   },
   "file_extension": ".py",
   "mimetype": "text/x-python",
   "name": "python",
   "nbconvert_exporter": "python",
   "pygments_lexer": "ipython3",
   "version": "3.7.1"
  }
 },
 "nbformat": 4,
 "nbformat_minor": 4
}
